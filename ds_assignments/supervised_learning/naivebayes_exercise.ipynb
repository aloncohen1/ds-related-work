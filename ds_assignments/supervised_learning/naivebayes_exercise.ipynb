{
 "cells": [
  {
   "cell_type": "markdown",
   "metadata": {
    "id": "Uq_3t_tluNmU"
   },
   "source": [
    "# Naive Bayes"
   ]
  },
  {
   "cell_type": "markdown",
   "metadata": {
    "id": "TQVMUZkQHlm2"
   },
   "source": [
    "## 1. Classifying Digits\n",
    "In this part we will test digits classification on the MNIST dataset, using Bernoulli Naive Bayes (a generative model), in contrast to the Multivariate Decision Tree (a discriminative model) we used before.\n",
    "\n",
    "The MNIST dataset contains 28x28 grayscale images of handwritten digits between 0 and 9 (10 classes). For mathmatical analysis clarity, and for matching expected API, flatten each image to create a 1D array with 784 elements."
   ]
  },
  {
   "cell_type": "markdown",
   "metadata": {
    "id": "Cjwjk6pzLE-y"
   },
   "source": [
    "### Loading the MNIST dataset\n",
    "Load the MNIST data set. The digits dataset is one of datasets scikit-learn comes with that do not require the downloading of any file from some external website. Use \n",
    ">```\n",
    "mnist = sklearn.datasets.fetch_mldata('MNIST original')\n",
    "```\n",
    "\n",
    "to fetch the original data. You may set the `data_home` to where you wish to download your data for caching. Each image is already transformed into a 1D integer array $x\\in [0,255]^{784}$, and the corresponding label is an integer $y\\in [0,9]$.\n",
    "\n",
    "Plot a single sample of each digit as the original image, so you get a feeling how the data looks like.\n",
    "\n",
    "Finally, divide your data into train and test sets, using 1/7 of the data for testing.\n",
    "\n",
    "---\n",
    "**Note 1:** Using `digits = sklearn.datasets.load_digits()` will only fetch a very small sample of the original set, with images resized to 8x8. This preprocessing of the data reduces dimensionality and gives invariance to small distortions - however, we will use the original data in this exercise. Feel free to test the proformance of the algorithms below on the preprocessed data as well.\n",
    "\n",
    "**Note 2:**\n",
    "Since ML-Data is deprecated, you may wish to use something like this:\n",
    ">```\n",
    "from keras.datasets import mnist\n",
    "(x_train, y_train), (x_test, y_test) = mnist.load_data()\n",
    "x_train = x_train.reshape(x_train.shape[0], 784)\n",
    "x_test = x_test.reshape(x_test.shape[0], 784)\n",
    "  ```\n",
    "\n"
   ]
  },
  {
   "cell_type": "code",
   "execution_count": 1,
   "metadata": {
    "id": "05Om0QLxBvvT",
    "scrolled": true
   },
   "outputs": [
    {
     "data": {
      "image/png": "[encoded data removed]",
      "text/plain": [
       "<Figure size 432x288 with 10 Axes>"
      ]
     },
     "metadata": {
      "needs_background": "light"
     },
     "output_type": "display_data"
    }
   ],
   "source": [
    "import numpy as np\n",
    "from matplotlib import pyplot as plt\n",
    "\n",
    "# Get data and reshape\n",
    "from keras.datasets import mnist\n",
    "(x_train, y_train), (x_test, y_test) = mnist.load_data()\n",
    "x_train = x_train.reshape(x_train.shape[0], 784)\n",
    "x_test = x_test.reshape(x_test.shape[0], 784)\n",
    "\n",
    "# Plot sample for each class\n",
    "samples = [x_train[np.where(y_train == i)[0][0]] for i in range(10)]\n",
    "fig, axes = plt.subplots(nrows=2, ncols=5)\n",
    "for i, ax in enumerate(axes.flat):\n",
    "    if i > 9:\n",
    "        break\n",
    "    ax.set_title(f'Sample {i}')\n",
    "    ax.imshow(samples[i].reshape(28,28), cmap='gray')\n",
    "    ax.get_xaxis().set_visible(False)\n",
    "    ax.get_yaxis().set_visible(False)"
   ]
  },
  {
   "cell_type": "markdown",
   "metadata": {
    "id": "WTGjjSKaFfE6"
   },
   "source": [
    "### Bernoulli Naive Bayes\n",
    "If we know how the digits are generated, then we know how to classify them (simply choose the digit class which will maximize the posterior probability) --- but which model should we use for describing the digits generation?\n",
    "\n",
    "In this part we will try a very simplified model of digits creation (which is obviously not the same as the \"real\" model), using a Naive Bayes over an underlying Bernoulli distribution --- that is, we will assume that given a digit class, the pixels of the images are the result of independent coin flips, each with its own \"head\" probability.\n",
    "\n",
    "Note that since we assume each pixl is either 0 (black) or 1 (white), we will need to adjust (preprocess) our data accrodingly (see below).\n",
    "\n",
    "So, the model is stated as follows:\n",
    "$$\n",
    "\\begin{align}\n",
    "\\text{Domain} && x \\in \\{0,1\\}^{784} \\\\\n",
    "\\text{Prior} && \\pi_j = \\Pr(y=j) \\\\\n",
    "\\text{Likelihood} && P_j(x) = \\Pr(x | y=j) \\\\\n",
    "\\end{align}\n",
    "$$\n",
    "\n",
    "Where for each $i\\in 0\\ldots 784$ it holds that\n",
    "$$\n",
    "P_{ji}(x_i) = \\Pr(x_i | y=j) =\n",
    "\\begin{cases}\n",
    "p_{ji} & \\text{if } x_i=1 \\\\\n",
    "1-p_{ji} & \\text{if } x_i=0 \\\\\n",
    "\\end{cases}\n",
    "$$\n"
   ]
  },
  {
   "cell_type": "markdown",
   "metadata": {
    "id": "WNjhD3IpL5bC"
   },
   "source": [
    "#### Question 1\n",
    "Write the classification rule based on this Naive Bayes model. \n",
    "How would you esitmate each of the parameters of the model based on the trainning data? \n",
    "\n",
    "\n",
    "**Bonus:** Think of edge cases which may effect your estimator in an undesired way."
   ]
  },
  {
   "cell_type": "markdown",
   "metadata": {
    "id": "0pN1prGcMqwZ"
   },
   "source": [
    "#### Answer 1\n",
    "##### Classification rule\n",
    " \\begin{array}{l}\n",
    "The\\ posterior\\ probability\\ of\\ class\\ j\\ given\\ a\\ sample\\ x\\ ( ignoring\\ the\\ evidence\\ in\\ the\\ denominator\\\\\n",
    "\\ which\\ is\\ identical\\ for\\ all\\ classes) \\ is:\\ \\\\\n",
    "P( C_{j} |x) \\ =\\ P( C_{j}) \\times \\prod ^{784}_{i=0}\\left( P^{x_{i}}_{ji} \\times ( 1-P_{ji})^{1-x_{i}}\\right)\\\\\n",
    "Hence,\\ the\\ classification\\ rule\\ according\\ to\\ bernoulli\\ naive\\ bayes\\ is:\\ \\\\\n",
    "\\arg\\max_{C\\in [ 0,9]}\\left( P( C_{j}) \\times \\prod ^{784}_{i=0}\\left( P^{x_{i}}_{ji} \\times ( 1-P_{ji})^{1-x_{i}}\\right)\\right)\n",
    "\\end{array}\n",
    "##### Parameter estimation\n",
    " \\begin{array}{l}\n",
    "For\\ samples\\ k\\in [ 1,K] \\ in\\ the\\ training\\ set,\\ feature\\ ( pixel) \\ i,\\ and\\ class\\ j:\\\\\n",
    "\\hat{P}( C_{j}) \\ =\\frac{\\ \\left(\\sum ^{K}_{k=1} label_{k} =C_{j}\\right)}{K}\\\\\n",
    "\\hat{P}_{ji} \\ =\\ \\frac{\\ \\left(\\sum ^{K}_{k=1} x_{ki} =1\\right)}{\\left(\\sum ^{K}_{k=1} label_{k} =C_{j}\\right)}\n",
    "\\end{array}\n",
    "##### Edge cases\n",
    "* If there is a pixel which is 0 for all training samples belonging to a certain class, the posterior for the class will always be 0 when the test sample's pixel value is 1, regardless of the trianing data.\n",
    "* If there is a pixel which is 1 for all training samples belonging to a certain class, the posterior for the class will always be 0 when the test sample's pixel value is 0, regardless of the trianing data.\n",
    "* If there are no examples belonging to a certain class in the training set, the posterior for the class will always be 0, regardless of the trianing data."
   ]
  },
  {
   "cell_type": "markdown",
   "metadata": {
    "id": "nOnkgDIXTMCQ"
   },
   "source": [
    "#### Question 2\n",
    "Run a Naive Bayes classifier on the training data and apply predictions on the test data. Use the [sklearn.naive_bayes.BernoulliNB](http://scikit-learn.org/stable/modules/generated/sklearn.naive_bayes.BernoulliNB.html) implementation (see the [source code for sklearn.naive_bayes](https://github.com/scikit-learn/scikit-learn/blob/master/sklearn/naive_bayes.py) for details).\n",
    "\n",
    "Remember we need to preprocess the data in this case such that each pixel would become either black (0) or white (1). For this, use the `binarize` parameter of the implementation. Set this value to $0$ (this is the default), which in this case would mean every pixel with non-zero value will be set to 1.\n",
    "\n",
    "1. Plot the mean image of each class (estimated $\\hat{p}_{ji}$) and generate one sample of each class (remember, you can do this since this is a generative model). You will need to access the `feature_log_prob_` attribute of the trained model.\n",
    "\n",
    "2. Plot the confusion matrix of your classifier, as claculated on the test data (it is recommended to use [sklearn.metrics.confusion_matrix](http://scikit-learn.org/stable/modules/generated/sklearn.metrics.confusion_matrix.html)). Calculate the total accuracy (fraction of correctly classified images), and summarize the results in your own words.\n",
    "\n",
    "3. Think of a way you can find the optimal threshold of the binarization part. **There is no need to actually perform this task --- just describe what you would have done.**\n"
   ]
  },
  {
   "cell_type": "markdown",
   "metadata": {
    "id": "ZKdsdegDWaO_"
   },
   "source": [
    "#### Answer 2\n",
    "Put you answer here..."
   ]
  },
  {
   "cell_type": "code",
   "execution_count": 2,
   "metadata": {
    "id": "XalqjRWXWS-Y"
   },
   "outputs": [],
   "source": [
    "import numpy as np\n",
    "from matplotlib import pyplot as plt\n",
    "from sklearn.naive_bayes import BernoulliNB\n",
    "\n",
    "np.random.seed(42)\n",
    "\n",
    "clf = BernoulliNB(binarize=0)\n",
    "clf.fit(x_train, y_train)\n",
    "predictions = clf.predict(x_test)"
   ]
  },
  {
   "cell_type": "code",
   "execution_count": 3,
   "metadata": {},
   "outputs": [
    {
     "data": {
      "image/png": "[encoded data removed]",
      "text/plain": [
       "<Figure size 432x288 with 10 Axes>"
      ]
     },
     "metadata": {
      "needs_background": "light"
     },
     "output_type": "display_data"
    }
   ],
   "source": [
    "# plot class means\n",
    "class_means = np.exp(clf.feature_log_prob_)\n",
    "fig, axes = plt.subplots(nrows=2, ncols=5)\n",
    "for i, ax in enumerate(axes.flat):\n",
    "    if i > 9:\n",
    "        break\n",
    "    ax.set_title(f'Class {i}')\n",
    "    ax.imshow(class_means[i].reshape(28,28), cmap='gray')\n",
    "    ax.get_xaxis().set_visible(False)\n",
    "    ax.get_yaxis().set_visible(False)\n",
    "\n",
    "fig.tight_layout()\n"
   ]
  },
  {
   "cell_type": "code",
   "execution_count": 4,
   "metadata": {},
   "outputs": [
    {
     "data": {
      "image/png": "[encoded data removed]",
      "text/plain": [
       "<Figure size 432x288 with 10 Axes>"
      ]
     },
     "metadata": {
      "needs_background": "light"
     },
     "output_type": "display_data"
    }
   ],
   "source": [
    "# generate and plot image from each class\n",
    "generated = np.random.binomial(1, p=class_means)\n",
    "fig, axes = plt.subplots(nrows=2, ncols=5)\n",
    "for i, ax in enumerate(axes.flat):\n",
    "    if i > 9:\n",
    "        break\n",
    "    ax.set_title(f'Class {i}')\n",
    "    ax.imshow(generated[i].reshape(28,28), cmap='gray')\n",
    "    ax.get_xaxis().set_visible(False)\n",
    "    ax.get_yaxis().set_visible(False)\n",
    "\n",
    "fig.tight_layout()"
   ]
  },
  {
   "cell_type": "code",
   "execution_count": 5,
   "metadata": {},
   "outputs": [
    {
     "name": "stdout",
     "output_type": "stream",
     "text": [
      "precision_score - 0.8332675303945714\n",
      "recall_score - 0.83125\n",
      "accuracy_score 0.83125\n"
     ]
    },
    {
     "data": {
      "text/html": [
       "<div>\n",
       "<style scoped>\n",
       "    .dataframe tbody tr th:only-of-type {\n",
       "        vertical-align: middle;\n",
       "    }\n",
       "\n",
       "    .dataframe tbody tr th {\n",
       "        vertical-align: top;\n",
       "    }\n",
       "\n",
       "    .dataframe thead th {\n",
       "        text-align: right;\n",
       "    }\n",
       "</style>\n",
       "<table border=\"1\" class=\"dataframe\">\n",
       "  <thead>\n",
       "    <tr style=\"text-align: right;\">\n",
       "      <th></th>\n",
       "      <th>predicted 0</th>\n",
       "      <th>predicted 1</th>\n",
       "      <th>predicted 2</th>\n",
       "      <th>predicted 3</th>\n",
       "      <th>predicted 4</th>\n",
       "      <th>predicted 5</th>\n",
       "      <th>predicted 6</th>\n",
       "      <th>predicted 7</th>\n",
       "      <th>predicted 8</th>\n",
       "      <th>predicted 9</th>\n",
       "    </tr>\n",
       "  </thead>\n",
       "  <tbody>\n",
       "    <tr>\n",
       "      <th>actual 0</th>\n",
       "      <td>90.71%</td>\n",
       "      <td>0.04%</td>\n",
       "      <td>0.46%</td>\n",
       "      <td>0.59%</td>\n",
       "      <td>0.28%</td>\n",
       "      <td>6.06%</td>\n",
       "      <td>1.90%</td>\n",
       "      <td>0.00%</td>\n",
       "      <td>2.75%</td>\n",
       "      <td>0.13%</td>\n",
       "    </tr>\n",
       "    <tr>\n",
       "      <th>actual 1</th>\n",
       "      <td>0.00%</td>\n",
       "      <td>87.06%</td>\n",
       "      <td>1.04%</td>\n",
       "      <td>0.25%</td>\n",
       "      <td>0.07%</td>\n",
       "      <td>1.50%</td>\n",
       "      <td>0.43%</td>\n",
       "      <td>0.07%</td>\n",
       "      <td>1.54%</td>\n",
       "      <td>0.24%</td>\n",
       "    </tr>\n",
       "    <tr>\n",
       "      <th>actual 2</th>\n",
       "      <td>1.60%</td>\n",
       "      <td>1.16%</td>\n",
       "      <td>86.82%</td>\n",
       "      <td>2.31%</td>\n",
       "      <td>2.23%</td>\n",
       "      <td>0.41%</td>\n",
       "      <td>3.87%</td>\n",
       "      <td>1.05%</td>\n",
       "      <td>4.47%</td>\n",
       "      <td>0.25%</td>\n",
       "    </tr>\n",
       "    <tr>\n",
       "      <th>actual 3</th>\n",
       "      <td>0.96%</td>\n",
       "      <td>1.86%</td>\n",
       "      <td>4.86%</td>\n",
       "      <td>75.44%</td>\n",
       "      <td>0.33%</td>\n",
       "      <td>3.17%</td>\n",
       "      <td>0.90%</td>\n",
       "      <td>1.29%</td>\n",
       "      <td>5.29%</td>\n",
       "      <td>2.80%</td>\n",
       "    </tr>\n",
       "    <tr>\n",
       "      <th>actual 4</th>\n",
       "      <td>0.22%</td>\n",
       "      <td>0.70%</td>\n",
       "      <td>0.67%</td>\n",
       "      <td>0.00%</td>\n",
       "      <td>81.87%</td>\n",
       "      <td>0.62%</td>\n",
       "      <td>1.49%</td>\n",
       "      <td>0.49%</td>\n",
       "      <td>2.12%</td>\n",
       "      <td>11.61%</td>\n",
       "    </tr>\n",
       "    <tr>\n",
       "      <th>actual 5</th>\n",
       "      <td>2.72%</td>\n",
       "      <td>0.97%</td>\n",
       "      <td>0.94%</td>\n",
       "      <td>12.47%</td>\n",
       "      <td>2.81%</td>\n",
       "      <td>80.54%</td>\n",
       "      <td>1.97%</td>\n",
       "      <td>0.40%</td>\n",
       "      <td>1.85%</td>\n",
       "      <td>2.39%</td>\n",
       "    </tr>\n",
       "    <tr>\n",
       "      <th>actual 6</th>\n",
       "      <td>1.03%</td>\n",
       "      <td>2.13%</td>\n",
       "      <td>2.10%</td>\n",
       "      <td>0.03%</td>\n",
       "      <td>0.82%</td>\n",
       "      <td>3.64%</td>\n",
       "      <td>88.81%</td>\n",
       "      <td>0.00%</td>\n",
       "      <td>0.72%</td>\n",
       "      <td>0.03%</td>\n",
       "    </tr>\n",
       "    <tr>\n",
       "      <th>actual 7</th>\n",
       "      <td>0.45%</td>\n",
       "      <td>1.79%</td>\n",
       "      <td>0.83%</td>\n",
       "      <td>0.28%</td>\n",
       "      <td>2.93%</td>\n",
       "      <td>0.19%</td>\n",
       "      <td>0.02%</td>\n",
       "      <td>92.38%</td>\n",
       "      <td>2.17%</td>\n",
       "      <td>6.57%</td>\n",
       "    </tr>\n",
       "    <tr>\n",
       "      <th>actual 8</th>\n",
       "      <td>1.38%</td>\n",
       "      <td>3.06%</td>\n",
       "      <td>1.80%</td>\n",
       "      <td>7.37%</td>\n",
       "      <td>1.13%</td>\n",
       "      <td>3.36%</td>\n",
       "      <td>0.58%</td>\n",
       "      <td>0.23%</td>\n",
       "      <td>76.21%</td>\n",
       "      <td>3.62%</td>\n",
       "    </tr>\n",
       "    <tr>\n",
       "      <th>actual 9</th>\n",
       "      <td>0.93%</td>\n",
       "      <td>1.23%</td>\n",
       "      <td>0.48%</td>\n",
       "      <td>1.27%</td>\n",
       "      <td>7.52%</td>\n",
       "      <td>0.51%</td>\n",
       "      <td>0.02%</td>\n",
       "      <td>4.10%</td>\n",
       "      <td>2.87%</td>\n",
       "      <td>72.35%</td>\n",
       "    </tr>\n",
       "  </tbody>\n",
       "</table>\n",
       "</div>"
      ],
      "text/plain": [
       "         predicted 0 predicted 1 predicted 2 predicted 3 predicted 4  \\\n",
       "actual 0      90.71%       0.04%       0.46%       0.59%       0.28%   \n",
       "actual 1       0.00%      87.06%       1.04%       0.25%       0.07%   \n",
       "actual 2       1.60%       1.16%      86.82%       2.31%       2.23%   \n",
       "actual 3       0.96%       1.86%       4.86%      75.44%       0.33%   \n",
       "actual 4       0.22%       0.70%       0.67%       0.00%      81.87%   \n",
       "actual 5       2.72%       0.97%       0.94%      12.47%       2.81%   \n",
       "actual 6       1.03%       2.13%       2.10%       0.03%       0.82%   \n",
       "actual 7       0.45%       1.79%       0.83%       0.28%       2.93%   \n",
       "actual 8       1.38%       3.06%       1.80%       7.37%       1.13%   \n",
       "actual 9       0.93%       1.23%       0.48%       1.27%       7.52%   \n",
       "\n",
       "         predicted 5 predicted 6 predicted 7 predicted 8 predicted 9  \n",
       "actual 0       6.06%       1.90%       0.00%       2.75%       0.13%  \n",
       "actual 1       1.50%       0.43%       0.07%       1.54%       0.24%  \n",
       "actual 2       0.41%       3.87%       1.05%       4.47%       0.25%  \n",
       "actual 3       3.17%       0.90%       1.29%       5.29%       2.80%  \n",
       "actual 4       0.62%       1.49%       0.49%       2.12%      11.61%  \n",
       "actual 5      80.54%       1.97%       0.40%       1.85%       2.39%  \n",
       "actual 6       3.64%      88.81%       0.00%       0.72%       0.03%  \n",
       "actual 7       0.19%       0.02%      92.38%       2.17%       6.57%  \n",
       "actual 8       3.36%       0.58%       0.23%      76.21%       3.62%  \n",
       "actual 9       0.51%       0.02%       4.10%       2.87%      72.35%  "
      ]
     },
     "execution_count": 5,
     "metadata": {},
     "output_type": "execute_result"
    }
   ],
   "source": [
    "from sklearn.metrics import confusion_matrix\n",
    "import pandas as pd\n",
    "import seaborn as sns\n",
    "from sklearn.metrics import recall_score, accuracy_score, precision_score\n",
    "\n",
    "conf_matrix = pd.DataFrame(confusion_matrix(y_train, clf.predict(x_train)),\n",
    "                            index=[f'actual {i}' for i in range(10)],\n",
    "                            columns=[f'predicted {i}' for i in range(10)])\n",
    "pct_matrix = conf_matrix / conf_matrix.sum()\n",
    "# sns.heatmap(pct_matrix);\n",
    "for col in pct_matrix:\n",
    "    pct_matrix[col] = pct_matrix[col].map(\"{:.2%}\".format)\n",
    "print('precision_score - %s' % precision_score(y_train,clf.predict(x_train),average='weighted'))\n",
    "print('recall_score - %s' % recall_score(y_train,clf.predict(x_train),average='weighted'))\n",
    "print('accuracy_score %s' % accuracy_score(clf.predict(x_train),y_train))\n",
    "pct_matrix"
   ]
  },
  {
   "cell_type": "markdown",
   "metadata": {},
   "source": [
    "#### Analysis of confusion matrix\n",
    "* Reaching a total accuracy of ~83%, we can see that most test samples were classified correctly, hence the largest values are on the diagonal of the confusion matrix.\n",
    "* We notice that many `5`s were predicted as `3`s and many `4`s were predicted as `9`s. This makes sense due to the two pairs of numbers having similar appearance.\n"
   ]
  },
  {
   "cell_type": "markdown",
   "metadata": {
    "id": "lKSgnectrTJ1"
   },
   "source": [
    "## 2. Classifing Text Documents using Multinomial Naive Bayes\n",
    "In this exercise you will classify the \"20 newsgroups\" data set using your own naive bayes classifier and compare to the scikit learn built in version.\n",
    "\n",
    "The 20 newsgroups dataset comprises around 18000 newsgroups posts on 20 topics split in two subsets: one for training (or development) and the other one for testing (or for performance evaluation). The split between the train and test set is based upon messages posted before and after a specific date.\n",
    "\n",
    "\n",
    "* Load the **train** data using `from sklearn.datasets import fetch_20newsgroups`. remove headers, footers and quotes (see documentation)\n",
    "* Use `sklearn.feature_extraction.text import CountVectorizer` to count words (stop_words='english')\n",
    "* Write a class `NaiveBayes(BaseEstimator, ClassifierMixin)` and implement its `fit`, `predict` and `predict_proba` methods.\n",
    "* use `sklearn.pipeline.make_pipeline` to chain the vectroizer and model.\n",
    "* note: limit the vocuabolary size if you suffer memory issues\n",
    "* compare the accuracy over the **test** data. You can use `accuracy_score, classification_report`\n",
    "* compare to the built in `sklearn.naive_bayes.MultinomialNB`\n",
    "* compare to `TfidfVectorizer` preprocessing (you can use the built in model for doing the analysis)\n",
    "* plot the learning curve - is the model in the bias or variance regime (you can use the built in model for doing the analysis)\n",
    "* optimize performance in respect to vectorizer hyper parameters (e.g. max_features, max_df etc.).\n",
    "\n",
    "### Optional: Model interpretability\n",
    "Find the most important features for a **specific** decision of a NB classifier.\n",
    "Because the model has learned the prior $p(x_i|c)$ during the training, the contribution of an individual feature value can be easily measured by the posterior, $p(c|x_i)=p(c)p(x_i|c)/p(x_i)$\n",
    "Implement a function which gets a scikit-learn NB model as input and returns $P(c|x_i)$:\n",
    "\n",
    "`def calc_p_c_given_xi(model)`\n",
    "\n",
    "Hint: Use the following model properties:\n",
    "\n",
    "* `model.class_log_prior_`\n",
    "* `model.feature_log_prob_`\n",
    "\n",
    "Note: remember these are logs and you need to use np.exp and normalize to get $P(c|x_i)$ \n",
    "Another hint: use numpy built-in broadcasting property.\n",
    "\n",
    "* Use the interpretation to examine errors of the classifier where $\\hat{c}\\ne c$. Which top words support the correct class and which support the wrong class? You can use the `print_txt` below to color words. \n",
    "\n",
    "Bonus: How can you correct the analyzed error? \n",
    "\n",
    "To read more about model interpretation, see the blogpost below and my tutorial:\n",
    "* https://lilianweng.github.io/lil-log/2017/08/01/how-to-explain-the-prediction-of-a-machine-learning-model.html\n",
    "* https://github.com/chanansh/right_but_why"
   ]
  },
  {
   "cell_type": "code",
   "execution_count": 6,
   "metadata": {},
   "outputs": [],
   "source": [
    "from sklearn.datasets import fetch_20newsgroups\n",
    "from sklearn.feature_extraction.text import CountVectorizer, TfidfVectorizer\n",
    "from sklearn.base import BaseEstimator, ClassifierMixin\n",
    "from sklearn.pipeline import make_pipeline\n",
    "import numpy as np\n",
    "from sklearn.naive_bayes import MultinomialNB\n",
    "from sklearn.model_selection import train_test_split\n",
    "from sklearn.metrics import accuracy_score\n",
    "\n",
    "\n",
    "class NaiveBayes(BaseEstimator, ClassifierMixin):\n",
    "\n",
    "    def __init__(self):\n",
    "        self.prior_p = {}\n",
    "        self.likelihood_dict = {}\n",
    "\n",
    "    def fit(self, X, y):\n",
    "\n",
    "        unique, count = np.unique(y, return_counts=True)\n",
    "        # self.prior_p = unique / len(y)\n",
    "        self.prior_p = dict(zip(unique, count / float(count.sum())))\n",
    "\n",
    "        X_arr = X.toarray()\n",
    "\n",
    "        for _class in self.prior_p.keys():\n",
    "\n",
    "            matrix = X_arr[np.where(y == _class)]\n",
    "\n",
    "            words_count = matrix.sum(axis=0) + 1\n",
    "            matrix = words_count / float(words_count.sum())\n",
    "\n",
    "            self.likelihood_dict[_class] = matrix\n",
    "\n",
    "    def predict(self, X):\n",
    "\n",
    "        log_lk_mat = self.predict_proba(X)\n",
    "        return log_lk_mat.argmax(axis=1)\n",
    "\n",
    "    def predict_proba(self, X):\n",
    "        X = X.toarray()\n",
    "        log_lk_mat = np.zeros((X.shape[0], len(self.prior_p)))\n",
    "        # prediction_list = []\n",
    "\n",
    "        for i, sample in enumerate(X):\n",
    "\n",
    "            sample_scores = []\n",
    "\n",
    "            for _class, prior in self.prior_p.items():\n",
    "                doc_lk = self.likelihood_dict[_class][np.where(sample != 0)]\n",
    "                class_score = np.sum(np.log(doc_lk)) + np.log(prior)\n",
    "                sample_scores.append(class_score)\n",
    "            log_lk_mat[i] = np.array(sample_scores)\n",
    "\n",
    "        return log_lk_mat"
   ]
  },
  {
   "cell_type": "code",
   "execution_count": 7,
   "metadata": {},
   "outputs": [
    {
     "name": "stdout",
     "output_type": "stream",
     "text": [
      "our model (CountVectorizer) - accuracy score: 0.6539991162174105\n",
      "our model (TfidfVectorizer) - accuracy score: 0.6853733981440565\n",
      "sklearn model (CountVectorizer) - accuracy score: 0.6685815289438798\n",
      "s klearn model (TfidfVectorizer) - accuracy score: 0.7180733539549271\n"
     ]
    }
   ],
   "source": [
    "data = fetch_20newsgroups(remove=(\"headers\", \"footers\", \"quotes\"))\n",
    "\n",
    "X_train, X_test, y_train, y_test = train_test_split(\n",
    "    data['data'], data['target'], test_size=0.2, random_state=42)\n",
    "\n",
    "def calc_clf_acc(params,X_train, X_test, y_train, y_test):\n",
    "    \n",
    "    model, model_name, vectorizer = params\n",
    "\n",
    "    clf = make_pipeline(vectorizer, model)\n",
    "\n",
    "    clf.fit(X_train, y_train)\n",
    "    prediction = clf.predict(X_test)\n",
    "\n",
    "    print('%s - accuracy score: %s' % (model_name, accuracy_score(prediction, y_test)))\n",
    "\n",
    "for param in ((NaiveBayes(),'our model (CountVectorizer)',CountVectorizer(stop_words='english')),\n",
    "             (NaiveBayes(),'our model (TfidfVectorizer)',TfidfVectorizer(stop_words='english')),\n",
    "             (MultinomialNB(),'sklearn model (CountVectorizer)',CountVectorizer(stop_words='english')),\n",
    "             (MultinomialNB(),'s klearn model (TfidfVectorizer)',TfidfVectorizer(stop_words='english'))):\n",
    "    \n",
    "    calc_clf_acc(param,X_train, X_test, y_train, y_test)"
   ]
  },
  {
   "cell_type": "code",
   "execution_count": 12,
   "metadata": {},
   "outputs": [
    {
     "data": {
      "image/png": "[encoded data removed]",
      "text/plain": [
       "<Figure size 432x288 with 1 Axes>"
      ]
     },
     "metadata": {
      "needs_background": "light"
     },
     "output_type": "display_data"
    }
   ],
   "source": [
    "import pandas as pd\n",
    "\n",
    "# Learning curve with different sizes of data \n",
    "\n",
    "X_train, X_test, y_train, y_test = train_test_split(\n",
    "    data['data'], data['target'], test_size=0.2, random_state=42)\n",
    "\n",
    "results_list = []\n",
    "\n",
    "data_range = np.linspace(0,len(X_train),10,dtype=int)[1:]\n",
    "data_pct = np.linspace(0,1,10)[1:]\n",
    "\n",
    "for data_range , pct in zip(data_range, data_pct):\n",
    "    \n",
    "    clf = make_pipeline(TfidfVectorizer(stop_words='english'), NaiveBayes())\n",
    "    \n",
    "    clf.fit(X_train[0:data_range],y_train[0:data_range])\n",
    "    \n",
    "    train_pred = clf.predict(X_train)\n",
    "    train_acc = accuracy_score(train_pred, y_train)\n",
    "    test_pred = clf.predict(X_test)\n",
    "    test_acc = accuracy_score(test_pred, y_test)\n",
    "\n",
    "    \n",
    "    results_list.append({'data_pct': \"{:.0%}\".format(pct),'test acc':test_acc, 'train acc': train_acc})\n",
    "\n",
    "df = pd.DataFrame(results_list)\n",
    "df\n",
    "df.set_index('data_pct').plot();"
   ]
  },
  {
   "cell_type": "markdown",
   "metadata": {},
   "source": [
    "#### Analysis of learning curve\n",
    "* By observing the learning curves, we find out that the difference in accuracy on the train set and on the test set is getting larger with respect to the percentage of data being used for the train set.\n",
    "* Test accuracy hardly improves when the percentage of the data is higher than 50, while train accuracy continues to rise. We can conclude that the learning that is done using percentages higher than 50 is overfitting the train data but not generalising for new samples. So a model using 100% of the data is overfitting, hence in the variance regime."
   ]
  },
  {
   "cell_type": "code",
   "execution_count": 26,
   "metadata": {},
   "outputs": [
    {
     "data": {
      "text/plain": [
       "GridSearchCV(cv=5, error_score=nan,\n",
       "             estimator=Pipeline(memory=None,\n",
       "                                steps=[('vect',\n",
       "                                        CountVectorizer(analyzer='word',\n",
       "                                                        binary=False,\n",
       "                                                        decode_error='strict',\n",
       "                                                        dtype=<class 'numpy.int64'>,\n",
       "                                                        encoding='utf-8',\n",
       "                                                        input='content',\n",
       "                                                        lowercase=True,\n",
       "                                                        max_df=1.0,\n",
       "                                                        max_features=None,\n",
       "                                                        min_df=1,\n",
       "                                                        ngram_range=(1, 1),\n",
       "                                                        preprocessor=None,\n",
       "                                                        stop_words=None,\n",
       "                                                        strip_accents=None,\n",
       "                                                        token_pattern='(?u)...\n",
       "                                                        tokenizer=None,\n",
       "                                                        vocabulary=None)),\n",
       "                                       ('clf',\n",
       "                                        MultinomialNB(alpha=1.0,\n",
       "                                                      class_prior=None,\n",
       "                                                      fit_prior=True))],\n",
       "                                verbose=False),\n",
       "             iid='deprecated', n_jobs=None,\n",
       "             param_grid={'vect__lowercase': [True, False],\n",
       "                         'vect__max_df': [0.92, 0.94, 0.96, 0.98, 1.0],\n",
       "                         'vect__max_features': [10000, 50000, None]},\n",
       "             pre_dispatch='2*n_jobs', refit=True, return_train_score=False,\n",
       "             scoring=None, verbose=False)"
      ]
     },
     "execution_count": 26,
     "metadata": {},
     "output_type": "execute_result"
    }
   ],
   "source": [
    "from sklearn.pipeline import Pipeline\n",
    "\n",
    "# Optimize performance in respect to vectorizer hyper parameters (e.g. max_features, max_df etc.)\n",
    "from sklearn.model_selection import GridSearchCV\n",
    "\n",
    "param_grid = {'vect__lowercase': [True, False],'vect__max_df':[0.92, 0.94, 0.96, 0.98, 1.],\n",
    "              'vect__max_features':[10000, 50000, None]}\n",
    "\n",
    "pipeline = Pipeline([\n",
    "    ('vect', CountVectorizer()),\n",
    "    ('clf', MultinomialNB())])\n",
    "\n",
    "search = GridSearchCV(pipeline, param_grid, cv=5, verbose=False)\n",
    "search.fit(X_train, y_train)"
   ]
  },
  {
   "cell_type": "code",
   "execution_count": 27,
   "metadata": {},
   "outputs": [
    {
     "data": {
      "text/plain": [
       "Pipeline(memory=None,\n",
       "         steps=[('vect',\n",
       "                 CountVectorizer(analyzer='word', binary=False,\n",
       "                                 decode_error='strict',\n",
       "                                 dtype=<class 'numpy.int64'>, encoding='utf-8',\n",
       "                                 input='content', lowercase=True, max_df=0.92,\n",
       "                                 max_features=10000, min_df=1,\n",
       "                                 ngram_range=(1, 1), preprocessor=None,\n",
       "                                 stop_words=None, strip_accents=None,\n",
       "                                 token_pattern='(?u)\\\\b\\\\w\\\\w+\\\\b',\n",
       "                                 tokenizer=None, vocabulary=None)),\n",
       "                ('clf',\n",
       "                 MultinomialNB(alpha=1.0, class_prior=None, fit_prior=True))],\n",
       "         verbose=False)"
      ]
     },
     "execution_count": 27,
     "metadata": {},
     "output_type": "execute_result"
    }
   ],
   "source": [
    "# Print\n",
    "search.best_estimator_"
   ]
  },
  {
   "cell_type": "code",
   "execution_count": 9,
   "metadata": {
    "colab": {
     "base_uri": "https://localhost:8080/",
     "height": 35
    },
    "id": "WrTOhkHV9msW",
    "outputId": "c69cb41c-5ed6-4e43-ef3f-6ccaa4980c1d"
   },
   "outputs": [
    {
     "name": "stdout",
     "output_type": "stream",
     "text": [
      "This \u001b[42;37mword\u001b[0m support the first class but this the \u001b[41;37mother\u001b[0m\n"
     ]
    }
   ],
   "source": [
    "import string\n",
    "def print_txt(txt, hot, cold):\n",
    "  \"\"\"\n",
    "  print the text, coloring hot and cold words with colors\n",
    "  \"\"\"\n",
    "  cold_color='\\x1b[41;37m{}\\x1b[0m'\n",
    "  hot_color='\\x1b[42;37m{}\\x1b[0m'\n",
    "  def color(token):\n",
    "    lower = str(token).lower()\n",
    "    lower = lower.replace('\\t','').replace('\\n','')\n",
    "    lower = lower.translate(string.punctuation)\n",
    "    if (lower in hot) and (lower in cold):\n",
    "      return mid_color.format(token)\n",
    "    elif lower in hot:\n",
    "      return hot_color.format(token)\n",
    "    elif lower in cold:\n",
    "      return cold_color.format(token)\n",
    "    else:\n",
    "      return token\n",
    "  colored_txt = \" \".join([color(token) for token in txt.split(' ')])\n",
    "  print(colored_txt)\n",
    "print_txt('This word support the first class but this the other', ['word'],['other'])"
   ]
  }
 ],
 "metadata": {
  "colab": {
   "collapsed_sections": [],
   "name": "NB exercise.ipynb",
   "provenance": []
  },
  "kernelspec": {
   "display_name": "Python 3",
   "language": "python",
   "name": "python3"
  },
  "language_info": {
   "codemirror_mode": {
    "name": "ipython",
    "version": 3
   },
   "file_extension": ".py",
   "mimetype": "text/x-python",
   "name": "python",
   "nbconvert_exporter": "python",
   "pygments_lexer": "ipython3",
   "version": "3.8.6"
  }
 },
 "nbformat": 4,
 "nbformat_minor": 1
}
