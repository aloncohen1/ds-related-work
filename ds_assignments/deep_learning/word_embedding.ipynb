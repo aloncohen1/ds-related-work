{
  "nbformat": 4,
  "nbformat_minor": 0,
  "metadata": {
    "kernelspec": {
      "display_name": "Python 3",
      "language": "python",
      "name": "python3"
    },
    "language_info": {
      "codemirror_mode": {
        "name": "ipython",
        "version": 3
      },
      "file_extension": ".py",
      "mimetype": "text/x-python",
      "name": "python",
      "nbconvert_exporter": "python",
      "pygments_lexer": "ipython3",
      "version": "3.7.0"
    },
    "colab": {
      "name": "DL_word_embedding_assignment.ipynb",
      "provenance": [],
      "collapsed_sections": [],
      "toc_visible": true
    },
    "accelerator": "GPU"
  },
  "cells": [
    {
      "cell_type": "markdown",
      "metadata": {
        "id": "CPsw5S9o0Sna"
      },
      "source": [
        "# Word Embedding - Home Assigment\n",
        "## Dr. Omri Allouche 2021. YData Deep Learning Course\n",
        "\n",
        "[Open in Google Colab](https://colab.research.google.com/github/omriallouche/ydata_deep_learning_2021/blob/master/assignments/word_vectors_text_classification/DL_word_embedding_assignment.ipynb)\n",
        "\n",
        "    \n",
        "In this exercise, you'll use word vectors trained on a corpus of lyrics of songs from MetroLyrics ([http://github.com/omriallouche/ydata_deep_learning_2021/blob/master/data/metrolyrics.parquet](/data/metrolyrics.parquet)).\n",
        "The dataset contains these fields for each song, in CSV format:\n",
        "1. index\n",
        "1. song\n",
        "1. year\n",
        "1. artist\n",
        "1. genre\n",
        "1. lyrics\n",
        "\n",
        "Before doing this exercise, we recommend that you go over the \"Bag of words meets bag of popcorn\" tutorial (https://www.kaggle.com/c/word2vec-nlp-tutorial)\n",
        "\n",
        "Other recommended resources:\n",
        "- https://rare-technologies.com/word2vec-tutorial/\n",
        "- https://www.kaggle.com/pierremegret/gensim-word2vec-tutorial"
      ]
    },
    {
      "cell_type": "markdown",
      "metadata": {
        "id": "S08yQQVX0Snf"
      },
      "source": [
        "### Train word vectors\n",
        "Train word vectors using the Skipgram Word2vec algorithm and the gensim package.\n",
        "Make sure you perform the following:\n",
        "- Tokenize words\n",
        "- Lowercase all words\n",
        "- Remove punctuation marks\n",
        "- Remove rare words\n",
        "- Remove stopwords\n",
        "\n",
        "Use 300 as the dimension of the word vectors. Try different context sizes."
      ]
    },
    {
      "cell_type": "code",
      "metadata": {
        "id": "Qj1h9Eqv0Sng",
        "colab": {
          "base_uri": "https://localhost:8080/"
        },
        "outputId": "78681ec6-e942-4184-86bd-2beaa3831bdb"
      },
      "source": [
        "import pandas as pd\n",
        "import seaborn as sns\n",
        "import re\n",
        "from nltk.corpus import stopwords\n",
        "from nltk.tokenize import word_tokenize\n",
        "import string\n",
        "import nltk\n",
        "nltk.download('punkt')\n",
        "nltk.download('stopwords')\n",
        "\n",
        "# nltk.FreqDist\n",
        "\n",
        "df = pd.read_parquet(\"https://raw.githubusercontent.com/omriallouche/ydata_deep_learning_2021/master/data/metrolyrics.parquet\")\n",
        "df.head()"
      ],
      "execution_count": null,
      "outputs": [
        {
          "output_type": "stream",
          "text": [
            "[nltk_data] Downloading package punkt to /root/nltk_data...\n",
            "[nltk_data]   Unzipping tokenizers/punkt.zip.\n",
            "[nltk_data] Downloading package stopwords to /root/nltk_data...\n",
            "[nltk_data]   Unzipping corpora/stopwords.zip.\n"
          ],
          "name": "stdout"
        },
        {
          "output_type": "execute_result",
          "data": {
            "text/plain": [
              "True"
            ]
          },
          "metadata": {
            "tags": []
          },
          "execution_count": 33
        }
      ]
    },
    {
      "cell_type": "code",
      "metadata": {
        "id": "X64PMvH406Qn"
      },
      "source": [
        "all_words_list = set()\n",
        "\n",
        "def process_text(text):\n",
        "\n",
        "  text = word_tokenize(re.sub(\"[^A-Za-z']+\", ' ', str(text.lower()))) # lowercasing and tokenization\n",
        "  text = [word.translate(str.maketrans('', '', string.punctuation)).strip() for word in text] # remove punctuation\n",
        "  text = [word for word in text if word not in stopwords.words('english') and word is not ''] # remove stopwords\n",
        "\n",
        "  all_words_list.update(set(text))\n",
        "\n",
        "  return ' '.join(text)\n",
        "\n",
        "\n",
        "df['clean_lyrics'] = df.apply(lambda x: process_text(x['lyrics']), axis=1)"
      ],
      "execution_count": null,
      "outputs": []
    },
    {
      "cell_type": "code",
      "metadata": {
        "id": "VGax7KYGRPGK"
      },
      "source": [
        "sent = [row.split() for row in df['clean_lyrics']]"
      ],
      "execution_count": null,
      "outputs": []
    },
    {
      "cell_type": "code",
      "metadata": {
        "id": "g8iMrg8D_xns"
      },
      "source": [
        "from gensim.models import Word2Vec\n",
        "from gensim.models.phrases import Phrases, Phraser\n",
        "\n",
        "phrases = Phrases(sent, min_count=30, progress_per=10000)"
      ],
      "execution_count": null,
      "outputs": []
    },
    {
      "cell_type": "code",
      "metadata": {
        "id": "SeVlrq7PULwb"
      },
      "source": [
        "bigram = Phraser(phrases)\n",
        "sentences = bigram[sent]"
      ],
      "execution_count": null,
      "outputs": []
    },
    {
      "cell_type": "code",
      "metadata": {
        "colab": {
          "base_uri": "https://localhost:8080/"
        },
        "id": "MPT1ZElaTCwF",
        "outputId": "a36e9ba2-0b71-4817-e269-11cc32afe188"
      },
      "source": [
        "from time import time\n",
        "import multiprocessing\n",
        "\n",
        "cores = multiprocessing.cpu_count()\n",
        "\n",
        "w2v_model = Word2Vec(min_count=20,\n",
        "                     window=2,\n",
        "                     size=300,\n",
        "                     sample=6e-5, \n",
        "                     alpha=0.03, \n",
        "                     min_alpha=0.0007, \n",
        "                     negative=20,\n",
        "                     workers=cores-1)\n",
        "\n",
        "t = time()\n",
        "\n",
        "w2v_model.build_vocab(sentences, progress_per=10000)\n",
        "\n",
        "print('Time to build vocab: {} mins'.format(round((time() - t) / 60, 2)))"
      ],
      "execution_count": null,
      "outputs": [
        {
          "output_type": "stream",
          "text": [
            "Time to build vocab: 0.45 mins\n"
          ],
          "name": "stdout"
        }
      ]
    },
    {
      "cell_type": "code",
      "metadata": {
        "colab": {
          "base_uri": "https://localhost:8080/"
        },
        "id": "WFHIwnH5TJdu",
        "outputId": "4eb78030-bac6-4a66-b32e-0230f43bc95a"
      },
      "source": [
        "t = time()\n",
        "\n",
        "w2v_model.train(sentences, total_examples=w2v_model.corpus_count, epochs=30, report_delay=1)\n",
        "\n",
        "print('Time to train the model: {} mins'.format(round((time() - t) / 60, 2)))"
      ],
      "execution_count": null,
      "outputs": [
        {
          "output_type": "stream",
          "text": [
            "Time to train the model: 28.34 mins\n"
          ],
          "name": "stdout"
        }
      ]
    },
    {
      "cell_type": "code",
      "metadata": {
        "id": "GH9cLedPcVQ6"
      },
      "source": [
        "w2v_model.save('w2v_model.model')"
      ],
      "execution_count": null,
      "outputs": []
    },
    {
      "cell_type": "code",
      "metadata": {
        "id": "3ENXieLidNMl"
      },
      "source": [
        "from gensim.models import KeyedVectors\n",
        "w2v_model = KeyedVectors.load(\"w2v_model.model\")"
      ],
      "execution_count": null,
      "outputs": []
    },
    {
      "cell_type": "code",
      "metadata": {
        "id": "oe_dWIDAuLOc"
      },
      "source": [
        "!pip install -U -q PyDrive\n",
        "from pydrive.auth import GoogleAuth\n",
        "from pydrive.drive import GoogleDrive\n",
        "from google.colab import auth\n",
        "from oauth2client.client import GoogleCredentials\n",
        "# Authenticate and create the PyDrive client.\n",
        "auth.authenticate_user()\n",
        "gauth = GoogleAuth()\n",
        "gauth.credentials = GoogleCredentials.get_application_default()\n",
        "drive = GoogleDrive(gauth)"
      ],
      "execution_count": 2,
      "outputs": []
    },
    {
      "cell_type": "code",
      "metadata": {
        "colab": {
          "base_uri": "https://localhost:8080/",
          "height": 306
        },
        "id": "OQuvJtiOuQyr",
        "outputId": "9c69e4c7-a296-441e-e386-bad832253a62"
      },
      "source": [
        "import pandas as pd\n",
        "df_link = 'https://drive.google.com/file/d/1rizUS3P236UO00eoShbB_3BoYyQcmaUA/view?usp=sharing' # The shareable link\n",
        "id = df_link.split('/')[-2]\n",
        "downloaded = drive.CreateFile({'id':id})\n",
        "downloaded.GetContentFile('metrolyrics.csv')  \n",
        "df = pd.read_csv('metrolyrics.csv')\n",
        "df.head()"
      ],
      "execution_count": 3,
      "outputs": [
        {
          "output_type": "execute_result",
          "data": {
            "text/html": [
              "<div>\n",
              "<style scoped>\n",
              "    .dataframe tbody tr th:only-of-type {\n",
              "        vertical-align: middle;\n",
              "    }\n",
              "\n",
              "    .dataframe tbody tr th {\n",
              "        vertical-align: top;\n",
              "    }\n",
              "\n",
              "    .dataframe thead th {\n",
              "        text-align: right;\n",
              "    }\n",
              "</style>\n",
              "<table border=\"1\" class=\"dataframe\">\n",
              "  <thead>\n",
              "    <tr style=\"text-align: right;\">\n",
              "      <th></th>\n",
              "      <th>Unnamed: 0</th>\n",
              "      <th>song</th>\n",
              "      <th>year</th>\n",
              "      <th>artist</th>\n",
              "      <th>genre</th>\n",
              "      <th>lyrics</th>\n",
              "      <th>num_chars</th>\n",
              "      <th>sent</th>\n",
              "      <th>num_words</th>\n",
              "      <th>clean_lyrics</th>\n",
              "    </tr>\n",
              "  </thead>\n",
              "  <tbody>\n",
              "    <tr>\n",
              "      <th>0</th>\n",
              "      <td>204182</td>\n",
              "      <td>fully-dressed</td>\n",
              "      <td>2008</td>\n",
              "      <td>annie</td>\n",
              "      <td>Pop</td>\n",
              "      <td>[HEALY]\\n[spoken] This is Bert Healy saying .....</td>\n",
              "      <td>1041</td>\n",
              "      <td>healy spoken this bert healy saying singing he...</td>\n",
              "      <td>826</td>\n",
              "      <td>healy spoken bert healy saying singing hey hob...</td>\n",
              "    </tr>\n",
              "    <tr>\n",
              "      <th>1</th>\n",
              "      <td>6116</td>\n",
              "      <td>surrounded-by-hoes</td>\n",
              "      <td>2006</td>\n",
              "      <td>50-cent</td>\n",
              "      <td>Hip-Hop</td>\n",
              "      <td>[Chorus: repeat 2X] Even when I'm tryin to be ...</td>\n",
              "      <td>1392</td>\n",
              "      <td>chorus repeat x even i tryin low i recognized ...</td>\n",
              "      <td>884</td>\n",
              "      <td>chorus repeat 2x even tryin low recognized hoe...</td>\n",
              "    </tr>\n",
              "    <tr>\n",
              "      <th>2</th>\n",
              "      <td>166369</td>\n",
              "      <td>taste-the-tears-thunderpuss-remix</td>\n",
              "      <td>2006</td>\n",
              "      <td>amber</td>\n",
              "      <td>Pop</td>\n",
              "      <td>How could you cause me so much pain?\\nAnd leav...</td>\n",
              "      <td>1113</td>\n",
              "      <td>how could cause much pain and leave heart rain...</td>\n",
              "      <td>756</td>\n",
              "      <td>could cause much pain leave heart rain gave ev...</td>\n",
              "    </tr>\n",
              "    <tr>\n",
              "      <th>3</th>\n",
              "      <td>198416</td>\n",
              "      <td>the-truth-will-set-me-free</td>\n",
              "      <td>2006</td>\n",
              "      <td>glenn-hughes</td>\n",
              "      <td>Rock</td>\n",
              "      <td>In a scarlet vision\\nIn a velvet room\\nI come ...</td>\n",
              "      <td>779</td>\n",
              "      <td>in scarlet vision in velvet room i come decisi...</td>\n",
              "      <td>583</td>\n",
              "      <td>scarlet vision velvet room come decision dog d...</td>\n",
              "    </tr>\n",
              "    <tr>\n",
              "      <th>4</th>\n",
              "      <td>127800</td>\n",
              "      <td>the-last-goodbye</td>\n",
              "      <td>2008</td>\n",
              "      <td>aaron-pritchett</td>\n",
              "      <td>Country</td>\n",
              "      <td>Sprintime in Savannah\\nIt dont get much pretti...</td>\n",
              "      <td>881</td>\n",
              "      <td>sprintime savannah it dont get much prettier b...</td>\n",
              "      <td>639</td>\n",
              "      <td>sprintime savannah dont get much prettier feel...</td>\n",
              "    </tr>\n",
              "  </tbody>\n",
              "</table>\n",
              "</div>"
            ],
            "text/plain": [
              "   Unnamed: 0  ...                                       clean_lyrics\n",
              "0      204182  ...  healy spoken bert healy saying singing hey hob...\n",
              "1        6116  ...  chorus repeat 2x even tryin low recognized hoe...\n",
              "2      166369  ...  could cause much pain leave heart rain gave ev...\n",
              "3      198416  ...  scarlet vision velvet room come decision dog d...\n",
              "4      127800  ...  sprintime savannah dont get much prettier feel...\n",
              "\n",
              "[5 rows x 10 columns]"
            ]
          },
          "metadata": {
            "tags": []
          },
          "execution_count": 3
        }
      ]
    },
    {
      "cell_type": "code",
      "metadata": {
        "colab": {
          "base_uri": "https://localhost:8080/"
        },
        "id": "Wf5kQM68v1hc",
        "outputId": "5d7ba21a-a06f-4232-9cd1-5d6949a11277"
      },
      "source": [
        "from gensim.models import KeyedVectors\n",
        "\n",
        "wv_link = 'https://drive.google.com/file/d/15hJufdgDnDunbUodZLo2REz1zJQ8Toyt/view?usp=sharing' # The shareable link\n",
        "id = wv_link.split('/')[-2]\n",
        "downloaded = drive.CreateFile({'id':id}) \n",
        "downloaded.GetContentFile('w2v_model.model') \n",
        "\n",
        "w2v_model = KeyedVectors.load(\"w2v_model.model\")\n",
        "w2v_model"
      ],
      "execution_count": 4,
      "outputs": [
        {
          "output_type": "execute_result",
          "data": {
            "text/plain": [
              "<gensim.models.word2vec.Word2Vec at 0x7f320d0fdbd0>"
            ]
          },
          "metadata": {
            "tags": []
          },
          "execution_count": 4
        }
      ]
    },
    {
      "cell_type": "markdown",
      "metadata": {
        "id": "jPGymCyU0Sng"
      },
      "source": [
        "### Review most similar words\n",
        "Get initial evaluation of the word vectors by analyzing the most similar words for a few interesting words in the text. \n",
        "\n",
        "Choose words yourself, and find the most similar words to them."
      ]
    },
    {
      "cell_type": "code",
      "metadata": {
        "colab": {
          "base_uri": "https://localhost:8080/"
        },
        "id": "SlEJ5j5ZVigZ",
        "outputId": "c853827a-decb-449a-bf6e-37ee4214f3bc"
      },
      "source": [
        "print(w2v_model.wv.most_similar('mother',topn=3))\n",
        "print(w2v_model.wv.most_similar('joke',topn=3))\n",
        "print(w2v_model.wv.most_similar('stop',topn=3))"
      ],
      "execution_count": 4,
      "outputs": [
        {
          "output_type": "stream",
          "text": [
            "[('father', 0.48190930485725403), ('brother', 0.41736847162246704), ('child', 0.39826399087905884)]\n",
            "[('broke', 0.36072659492492676), ('funny', 0.3560766279697418), ('comedian', 0.2867908179759979)]\n",
            "[('cause', 0.5850833058357239), ('keep', 0.5623694658279419), ('know', 0.5231946110725403)]\n"
          ],
          "name": "stdout"
        }
      ]
    },
    {
      "cell_type": "markdown",
      "metadata": {
        "id": "J4Vxfk8h0Snh"
      },
      "source": [
        "### Word Vectors Algebra\n",
        "We've seen in class examples of algebraic games on the word vectors (e.g. man - woman + king = queen ). \n",
        "\n",
        "Try a few vector algebra terms, and evaluate how well they work. Try to use the Cosine distance and compare it to the Euclidean distance."
      ]
    },
    {
      "cell_type": "code",
      "metadata": {
        "id": "PQ895pW10Snh",
        "colab": {
          "base_uri": "https://localhost:8080/"
        },
        "outputId": "94485705-3d7a-46c5-96ac-bb6473af56da"
      },
      "source": [
        "print(w2v_model.wv.most_similar(positive=[\"mother\", \"man\"], negative=[\"woman\"], topn=3))\n",
        "print(w2v_model.wv.most_similar(positive=[\"father\", \"woman\"], negative=[\"man\"], topn=3))\n",
        "print(w2v_model.wv.most_similar(positive=[\"king\", \"woman\"], negative=[\"man\"], topn=3))"
      ],
      "execution_count": 5,
      "outputs": [
        {
          "output_type": "stream",
          "text": [
            "[('brother', 0.4154040217399597), ('fuck', 0.39607614278793335), ('shit', 0.3740338385105133)]\n",
            "[('mother', 0.34044840931892395), ('father_father', 0.33039313554763794), ('grace', 0.3256756365299225)]\n",
            "[('queen', 0.3891682028770447), ('martin_luther', 0.3173820376396179), ('princess', 0.3081028163433075)]\n"
          ],
          "name": "stdout"
        }
      ]
    },
    {
      "cell_type": "markdown",
      "metadata": {
        "id": "ugfClpwb0Snh"
      },
      "source": [
        "## Sentiment Analysis\n",
        "Estimate sentiment of words using word vectors.  \n",
        "In this section, we'll use the SemEval-2015 English Twitter Sentiment Lexicon.  \n",
        "The lexicon was used as an official test set in the SemEval-2015 shared Task #10: Subtask E, and contains a polarity score for words in range -1 (negative) to 1 (positive) - http://saifmohammad.com/WebPages/SCL.html#OPP"
      ]
    },
    {
      "cell_type": "markdown",
      "metadata": {
        "id": "Er4AydIP0Sni"
      },
      "source": [
        "Build a classifier for the sentiment of a word given its word vector. Split the data to a train and test sets, and report the model performance on both sets."
      ]
    },
    {
      "cell_type": "code",
      "metadata": {
        "id": "MDRuRhOH0Sni"
      },
      "source": [
        "# get data\n",
        "from io import BytesIO\n",
        "from zipfile import ZipFile\n",
        "from urllib.request import urlopen\n",
        "\n",
        "download_url = 'http://saifmohammad.com/WebDocs/lexiconstoreleaseonsclpage/SemEval2015-English-Twitter-Lexicon.zip'\n",
        "\n",
        "sentiments_list = []\n",
        "\n",
        "resp = urlopen(download_url)\n",
        "zipfile = ZipFile(BytesIO(resp.read()))\n",
        "file_name = zipfile.namelist()[-1]\n",
        "\n",
        "negators = zipfile.namelist()[-2]\n",
        "negators = zipfile.open(negators).readlines()\n",
        "negators = [line.decode('utf-8').split()[0] for line in negators]\n",
        "\n",
        "for line in zipfile.open(file_name).readlines():\n",
        "  line = line.decode('utf-8').replace('#','').split()\n",
        "  score = float(line[0])\n",
        "  text = ' '.join(line[1:]).strip()\n",
        "  word_a = text.split()[0]\n",
        "  word_b = text.split()[1] if len(line) > 2 else None\n",
        "  \n",
        "  sentiments_list.append({'score': score,\n",
        "                          'text':text,\n",
        "                          'word_a':word_a,\n",
        "                          'word_b':word_b})"
      ],
      "execution_count": 6,
      "outputs": []
    },
    {
      "cell_type": "code",
      "metadata": {
        "colab": {
          "base_uri": "https://localhost:8080/",
          "height": 204
        },
        "id": "eezD0IZrnTSi",
        "outputId": "a2b641be-30f7-4924-db98-77e1866b8550"
      },
      "source": [
        "# parse data\n",
        "sentiment_df = pd.DataFrame(sentiments_list)\n",
        "sentiment_df['words_for_train'] = sentiment_df.apply(lambda x: x['word_b'] if x['word_b'] else x['word_a'],axis=1)\n",
        "sentiment_df['isin_vocab'] = sentiment_df.apply(lambda x: x['words_for_train'] in w2v_model.wv.vocab.keys(),axis=1)\n",
        "sentiment_df = sentiment_df[sentiment_df['isin_vocab']]\n",
        "sentiment_df['has_negators'] = sentiment_df.apply(lambda x: x['word_a'] in negators if x['word_b'] else False,axis=1)\n",
        "\n",
        "sentiment_df['word_v'] = sentiment_df.apply(lambda x: w2v_model.wv.get_vector(x['words_for_train']),axis=1)\n",
        "sentiment_df.head()"
      ],
      "execution_count": 7,
      "outputs": [
        {
          "output_type": "execute_result",
          "data": {
            "text/html": [
              "<div>\n",
              "<style scoped>\n",
              "    .dataframe tbody tr th:only-of-type {\n",
              "        vertical-align: middle;\n",
              "    }\n",
              "\n",
              "    .dataframe tbody tr th {\n",
              "        vertical-align: top;\n",
              "    }\n",
              "\n",
              "    .dataframe thead th {\n",
              "        text-align: right;\n",
              "    }\n",
              "</style>\n",
              "<table border=\"1\" class=\"dataframe\">\n",
              "  <thead>\n",
              "    <tr style=\"text-align: right;\">\n",
              "      <th></th>\n",
              "      <th>score</th>\n",
              "      <th>text</th>\n",
              "      <th>word_a</th>\n",
              "      <th>word_b</th>\n",
              "      <th>words_for_train</th>\n",
              "      <th>isin_vocab</th>\n",
              "      <th>has_negators</th>\n",
              "      <th>word_v</th>\n",
              "    </tr>\n",
              "  </thead>\n",
              "  <tbody>\n",
              "    <tr>\n",
              "      <th>0</th>\n",
              "      <td>0.984</td>\n",
              "      <td>loves</td>\n",
              "      <td>loves</td>\n",
              "      <td>None</td>\n",
              "      <td>loves</td>\n",
              "      <td>True</td>\n",
              "      <td>False</td>\n",
              "      <td>[0.039917566, -0.19262722, -1.5087744, -0.6006...</td>\n",
              "    </tr>\n",
              "    <tr>\n",
              "      <th>2</th>\n",
              "      <td>0.969</td>\n",
              "      <td>amazing</td>\n",
              "      <td>amazing</td>\n",
              "      <td>None</td>\n",
              "      <td>amazing</td>\n",
              "      <td>True</td>\n",
              "      <td>False</td>\n",
              "      <td>[-1.1648709, -0.28753403, -0.4908852, -0.99061...</td>\n",
              "    </tr>\n",
              "    <tr>\n",
              "      <th>3</th>\n",
              "      <td>0.969</td>\n",
              "      <td>peaceful</td>\n",
              "      <td>peaceful</td>\n",
              "      <td>None</td>\n",
              "      <td>peaceful</td>\n",
              "      <td>True</td>\n",
              "      <td>False</td>\n",
              "      <td>[-0.023836747, -0.476886, -0.22323118, -1.2462...</td>\n",
              "    </tr>\n",
              "    <tr>\n",
              "      <th>4</th>\n",
              "      <td>0.953</td>\n",
              "      <td>greatness</td>\n",
              "      <td>greatness</td>\n",
              "      <td>None</td>\n",
              "      <td>greatness</td>\n",
              "      <td>True</td>\n",
              "      <td>False</td>\n",
              "      <td>[1.0555886, -1.1125934, -0.05948353, -1.023635...</td>\n",
              "    </tr>\n",
              "    <tr>\n",
              "      <th>5</th>\n",
              "      <td>0.938</td>\n",
              "      <td>fantastic</td>\n",
              "      <td>fantastic</td>\n",
              "      <td>None</td>\n",
              "      <td>fantastic</td>\n",
              "      <td>True</td>\n",
              "      <td>False</td>\n",
              "      <td>[-0.29725134, 0.38916177, -0.21154138, 1.04324...</td>\n",
              "    </tr>\n",
              "  </tbody>\n",
              "</table>\n",
              "</div>"
            ],
            "text/plain": [
              "   score  ...                                             word_v\n",
              "0  0.984  ...  [0.039917566, -0.19262722, -1.5087744, -0.6006...\n",
              "2  0.969  ...  [-1.1648709, -0.28753403, -0.4908852, -0.99061...\n",
              "3  0.969  ...  [-0.023836747, -0.476886, -0.22323118, -1.2462...\n",
              "4  0.953  ...  [1.0555886, -1.1125934, -0.05948353, -1.023635...\n",
              "5  0.938  ...  [-0.29725134, 0.38916177, -0.21154138, 1.04324...\n",
              "\n",
              "[5 rows x 8 columns]"
            ]
          },
          "metadata": {
            "tags": []
          },
          "execution_count": 7
        }
      ]
    },
    {
      "cell_type": "code",
      "metadata": {
        "colab": {
          "base_uri": "https://localhost:8080/",
          "height": 221
        },
        "id": "vG5d14QUutEO",
        "outputId": "9ebc9c6f-6cf9-40af-889d-c56c23076d7d"
      },
      "source": [
        "#train model\n",
        "from sklearn.model_selection import train_test_split\n",
        "import xgboost as xgb\n",
        "\n",
        "X_train, X_test, y_train, y_test = train_test_split(sentiment_df['word_v'].apply(pd.Series), \n",
        "                                                    sentiment_df['score'], \n",
        "                                                    test_size=0.33, \n",
        "                                                    random_state=42)\n",
        "\n",
        "clf = xgb.XGBRegressor(objective ='reg:linear', colsample_bytree = 0.3, \n",
        "                       learning_rate = 0.1,\n",
        "                       max_depth = 5,\n",
        "                       alpha = 10,\n",
        "                       n_estimators = 10)\n",
        "\n",
        "clf.fit(X_train,y_train)\n",
        "preds = clf.predict(X_test)\n",
        "\n",
        "preds_df = pd.DataFrame(zip(preds, y_test, y_test.index),columns=['preds','actual','index'])\n",
        "preds_df = preds_df.merge(sentiment_df['has_negators'],left_on=['index'],right_index=True,how='left')\n",
        "preds_df.loc[preds_df[\"has_negators\"], \"preds\"] *=-1.0\n",
        "\n",
        "preds_df.head()"
      ],
      "execution_count": 8,
      "outputs": [
        {
          "output_type": "stream",
          "text": [
            "[06:24:16] WARNING: /workspace/src/objective/regression_obj.cu:152: reg:linear is now deprecated in favor of reg:squarederror.\n"
          ],
          "name": "stdout"
        },
        {
          "output_type": "execute_result",
          "data": {
            "text/html": [
              "<div>\n",
              "<style scoped>\n",
              "    .dataframe tbody tr th:only-of-type {\n",
              "        vertical-align: middle;\n",
              "    }\n",
              "\n",
              "    .dataframe tbody tr th {\n",
              "        vertical-align: top;\n",
              "    }\n",
              "\n",
              "    .dataframe thead th {\n",
              "        text-align: right;\n",
              "    }\n",
              "</style>\n",
              "<table border=\"1\" class=\"dataframe\">\n",
              "  <thead>\n",
              "    <tr style=\"text-align: right;\">\n",
              "      <th></th>\n",
              "      <th>preds</th>\n",
              "      <th>actual</th>\n",
              "      <th>index</th>\n",
              "      <th>has_negators</th>\n",
              "    </tr>\n",
              "  </thead>\n",
              "  <tbody>\n",
              "    <tr>\n",
              "      <th>0</th>\n",
              "      <td>0.201677</td>\n",
              "      <td>0.266</td>\n",
              "      <td>493</td>\n",
              "      <td>False</td>\n",
              "    </tr>\n",
              "    <tr>\n",
              "      <th>1</th>\n",
              "      <td>0.059057</td>\n",
              "      <td>-0.172</td>\n",
              "      <td>937</td>\n",
              "      <td>False</td>\n",
              "    </tr>\n",
              "    <tr>\n",
              "      <th>2</th>\n",
              "      <td>0.324986</td>\n",
              "      <td>0.172</td>\n",
              "      <td>601</td>\n",
              "      <td>False</td>\n",
              "    </tr>\n",
              "    <tr>\n",
              "      <th>3</th>\n",
              "      <td>-0.194144</td>\n",
              "      <td>-0.328</td>\n",
              "      <td>1068</td>\n",
              "      <td>True</td>\n",
              "    </tr>\n",
              "    <tr>\n",
              "      <th>4</th>\n",
              "      <td>0.266613</td>\n",
              "      <td>0.406</td>\n",
              "      <td>380</td>\n",
              "      <td>False</td>\n",
              "    </tr>\n",
              "  </tbody>\n",
              "</table>\n",
              "</div>"
            ],
            "text/plain": [
              "      preds  actual  index  has_negators\n",
              "0  0.201677   0.266    493         False\n",
              "1  0.059057  -0.172    937         False\n",
              "2  0.324986   0.172    601         False\n",
              "3 -0.194144  -0.328   1068          True\n",
              "4  0.266613   0.406    380         False"
            ]
          },
          "metadata": {
            "tags": []
          },
          "execution_count": 8
        }
      ]
    },
    {
      "cell_type": "code",
      "metadata": {
        "colab": {
          "base_uri": "https://localhost:8080/",
          "height": 330
        },
        "id": "5v4xXsBBxPvq",
        "outputId": "e7db7f9a-bb6b-4b23-f1b4-c5e58c8decb0"
      },
      "source": [
        "from sklearn.metrics import mean_absolute_error\n",
        "from sklearn.metrics import mean_squared_error\n",
        "import seaborn as sns\n",
        "\n",
        "sns.scatterplot(data=preds_df,x='preds',y='actual');\n",
        "print('correlation - %s' % preds_df[['preds','actual']].corr().loc['actual','preds']);\n",
        "print('mean_absolute_error - %s' % mean_absolute_error(preds_df['preds'],preds_df['actual']))\n",
        "print('mean_squared_error - %s' % mean_squared_error(preds_df['preds'],preds_df['actual']))"
      ],
      "execution_count": 9,
      "outputs": [
        {
          "output_type": "stream",
          "text": [
            "correlation - 0.40406202516304757\n",
            "mean_absolute_error - 0.347034812262564\n",
            "mean_squared_error - 0.19082109532488103\n"
          ],
          "name": "stdout"
        },
        {
          "output_type": "display_data",
          "data": {
            "image/png": "[encoded data removed]",
            "text/plain": [
              "<Figure size 432x288 with 1 Axes>"
            ]
          },
          "metadata": {
            "tags": [],
            "needs_background": "light"
          }
        }
      ]
    },
    {
      "cell_type": "markdown",
      "metadata": {
        "id": "lWS_2NrU0Sni"
      },
      "source": [
        "Use your trained model from the previous question to predict the sentiment score of words in the lyrics corpus that are not part of the original sentiment dataset. Review the words with the highest positive and negative sentiment. Do the results make sense?"
      ]
    },
    {
      "cell_type": "code",
      "metadata": {
        "id": "9qQpSvw40Sni",
        "colab": {
          "base_uri": "https://localhost:8080/",
          "height": 419
        },
        "outputId": "a90be5ce-fbdc-482b-cde2-0a22eb09d056"
      },
      "source": [
        "song_a = df['clean_lyrics'][1].split()\n",
        "song_a_words = pd.DataFrame([word for word in song_a if word in w2v_model.wv.vocab.keys()],columns=['word'])\n",
        "song_a_vec = pd.DataFrame([w2v_model.wv.get_vector(word) for word in song_a if word in w2v_model.wv.vocab.keys()])\n",
        "\n",
        "song_a_pred = pd.DataFrame(clf.predict(song_a_vec),columns=['pred_sentiment'])\n",
        "pd.concat([song_a_words,song_a_pred],axis=1).drop_duplicates('pred_sentiment').sort_values(by=['pred_sentiment'],ascending=False)"
      ],
      "execution_count": 10,
      "outputs": [
        {
          "output_type": "execute_result",
          "data": {
            "text/html": [
              "<div>\n",
              "<style scoped>\n",
              "    .dataframe tbody tr th:only-of-type {\n",
              "        vertical-align: middle;\n",
              "    }\n",
              "\n",
              "    .dataframe tbody tr th {\n",
              "        vertical-align: top;\n",
              "    }\n",
              "\n",
              "    .dataframe thead th {\n",
              "        text-align: right;\n",
              "    }\n",
              "</style>\n",
              "<table border=\"1\" class=\"dataframe\">\n",
              "  <thead>\n",
              "    <tr style=\"text-align: right;\">\n",
              "      <th></th>\n",
              "      <th>word</th>\n",
              "      <th>pred_sentiment</th>\n",
              "    </tr>\n",
              "  </thead>\n",
              "  <tbody>\n",
              "    <tr>\n",
              "      <th>34</th>\n",
              "      <td>hits</td>\n",
              "      <td>0.417284</td>\n",
              "    </tr>\n",
              "    <tr>\n",
              "      <th>87</th>\n",
              "      <td>feelings</td>\n",
              "      <td>0.372209</td>\n",
              "    </tr>\n",
              "    <tr>\n",
              "      <th>66</th>\n",
              "      <td>dance</td>\n",
              "      <td>0.370345</td>\n",
              "    </tr>\n",
              "    <tr>\n",
              "      <th>39</th>\n",
              "      <td>ai</td>\n",
              "      <td>0.366835</td>\n",
              "    </tr>\n",
              "    <tr>\n",
              "      <th>97</th>\n",
              "      <td>yeah</td>\n",
              "      <td>0.362437</td>\n",
              "    </tr>\n",
              "    <tr>\n",
              "      <th>...</th>\n",
              "      <td>...</td>\n",
              "      <td>...</td>\n",
              "    </tr>\n",
              "    <tr>\n",
              "      <th>64</th>\n",
              "      <td>punk</td>\n",
              "      <td>-0.007750</td>\n",
              "    </tr>\n",
              "    <tr>\n",
              "      <th>132</th>\n",
              "      <td>mean</td>\n",
              "      <td>-0.008551</td>\n",
              "    </tr>\n",
              "    <tr>\n",
              "      <th>65</th>\n",
              "      <td>ass</td>\n",
              "      <td>-0.037825</td>\n",
              "    </tr>\n",
              "    <tr>\n",
              "      <th>58</th>\n",
              "      <td>nigga</td>\n",
              "      <td>-0.083347</td>\n",
              "    </tr>\n",
              "    <tr>\n",
              "      <th>42</th>\n",
              "      <td>shit</td>\n",
              "      <td>-0.114185</td>\n",
              "    </tr>\n",
              "  </tbody>\n",
              "</table>\n",
              "<p>102 rows × 2 columns</p>\n",
              "</div>"
            ],
            "text/plain": [
              "         word  pred_sentiment\n",
              "34       hits        0.417284\n",
              "87   feelings        0.372209\n",
              "66      dance        0.370345\n",
              "39         ai        0.366835\n",
              "97       yeah        0.362437\n",
              "..        ...             ...\n",
              "64       punk       -0.007750\n",
              "132      mean       -0.008551\n",
              "65        ass       -0.037825\n",
              "58      nigga       -0.083347\n",
              "42       shit       -0.114185\n",
              "\n",
              "[102 rows x 2 columns]"
            ]
          },
          "metadata": {
            "tags": []
          },
          "execution_count": 10
        }
      ]
    },
    {
      "cell_type": "markdown",
      "metadata": {
        "id": "ZJZFrEm80Snj"
      },
      "source": [
        "### Visualize Word Vectors\n",
        "In this section, you'll plot words on a 2D grid based on their inner similarity. We'll use the tSNE transformation to reduce dimensions from 300 to 2. You can get sample code from https://www.kaggle.com/pierremegret/gensim-word2vec-tutorial or other tutorials online.\n",
        "\n",
        "Perform the following:\n",
        "- Keep only the 3,000 most frequent words (after removing stopwords)\n",
        "- For this list, compute for each word its relative abundance in each of the genres\n",
        "- Compute the ratio between the proportion of each word in each genre and the proportion of the word in the entire corpus (the background distribution)\n",
        "- Pick the top 50 words for each genre. These words give good indication for that genre. Join the words from all genres into a single list of top significant words. \n",
        "- Compute tSNE transformation to 2D for all words, based on their word vectors\n",
        "- Plot the list of the top significant words in 2D. Next to each word output its text. The color of each point should indicate the genre for which it is most significant.\n",
        "\n",
        "You might prefer to use a different number of points or a slightly different methodology for improved results.  \n",
        "Analyze the results."
      ]
    },
    {
      "cell_type": "code",
      "metadata": {
        "colab": {
          "base_uri": "https://localhost:8080/",
          "height": 695
        },
        "id": "hz-t0Y6Tlxi9",
        "outputId": "9be747a8-a202-4b88-85fa-22cc14cb7daf"
      },
      "source": [
        "from sklearn.feature_extraction.text import CountVectorizer\n",
        "vectorizer = CountVectorizer(max_features=3000)\n",
        "X = vectorizer.fit_transform(df['clean_lyrics'])\n",
        "bow_df = pd.DataFrame(X.toarray(),columns=vectorizer.get_feature_names())\n",
        "\n",
        "remove_list = [word for word in vectorizer.get_feature_names() if word not in w2v_model.wv.vocab.keys()]\n",
        "bow_df = bow_df.drop(remove_list,axis=1)\n",
        "df=pd.concat([df,bow_df],axis=1)\n",
        "df.head()"
      ],
      "execution_count": 11,
      "outputs": [
        {
          "output_type": "execute_result",
          "data": {
            "text/html": [
              "<div>\n",
              "<style scoped>\n",
              "    .dataframe tbody tr th:only-of-type {\n",
              "        vertical-align: middle;\n",
              "    }\n",
              "\n",
              "    .dataframe tbody tr th {\n",
              "        vertical-align: top;\n",
              "    }\n",
              "\n",
              "    .dataframe thead th {\n",
              "        text-align: right;\n",
              "    }\n",
              "</style>\n",
              "<table border=\"1\" class=\"dataframe\">\n",
              "  <thead>\n",
              "    <tr style=\"text-align: right;\">\n",
              "      <th></th>\n",
              "      <th>Unnamed: 0</th>\n",
              "      <th>song</th>\n",
              "      <th>year</th>\n",
              "      <th>artist</th>\n",
              "      <th>genre</th>\n",
              "      <th>lyrics</th>\n",
              "      <th>num_chars</th>\n",
              "      <th>sent</th>\n",
              "      <th>num_words</th>\n",
              "      <th>clean_lyrics</th>\n",
              "      <th>10</th>\n",
              "      <th>100</th>\n",
              "      <th>12</th>\n",
              "      <th>20</th>\n",
              "      <th>2x</th>\n",
              "      <th>30</th>\n",
              "      <th>40</th>\n",
              "      <th>4x</th>\n",
              "      <th>50</th>\n",
              "      <th>aah</th>\n",
              "      <th>aber</th>\n",
              "      <th>able</th>\n",
              "      <th>accept</th>\n",
              "      <th>ace</th>\n",
              "      <th>aching</th>\n",
              "      <th>across</th>\n",
              "      <th>act</th>\n",
              "      <th>actin</th>\n",
              "      <th>acting</th>\n",
              "      <th>action</th>\n",
              "      <th>add</th>\n",
              "      <th>addicted</th>\n",
              "      <th>admit</th>\n",
              "      <th>adore</th>\n",
              "      <th>advice</th>\n",
              "      <th>affair</th>\n",
              "      <th>afford</th>\n",
              "      <th>afraid</th>\n",
              "      <th>age</th>\n",
              "      <th>ago</th>\n",
              "      <th>...</th>\n",
              "      <th>wow</th>\n",
              "      <th>wrap</th>\n",
              "      <th>wrapped</th>\n",
              "      <th>wrath</th>\n",
              "      <th>wreck</th>\n",
              "      <th>wrist</th>\n",
              "      <th>write</th>\n",
              "      <th>writing</th>\n",
              "      <th>written</th>\n",
              "      <th>wrong</th>\n",
              "      <th>wrote</th>\n",
              "      <th>x2</th>\n",
              "      <th>x3</th>\n",
              "      <th>x4</th>\n",
              "      <th>ya</th>\n",
              "      <th>yah</th>\n",
              "      <th>yall</th>\n",
              "      <th>yard</th>\n",
              "      <th>ye</th>\n",
              "      <th>yea</th>\n",
              "      <th>yeah</th>\n",
              "      <th>year</th>\n",
              "      <th>years</th>\n",
              "      <th>yellow</th>\n",
              "      <th>yes</th>\n",
              "      <th>yesterday</th>\n",
              "      <th>yet</th>\n",
              "      <th>yo</th>\n",
              "      <th>youll</th>\n",
              "      <th>young</th>\n",
              "      <th>younger</th>\n",
              "      <th>youre</th>\n",
              "      <th>youth</th>\n",
              "      <th>yuh</th>\n",
              "      <th>yup</th>\n",
              "      <th>zeit</th>\n",
              "      <th>zero</th>\n",
              "      <th>zone</th>\n",
              "      <th>zu</th>\n",
              "      <th>zum</th>\n",
              "    </tr>\n",
              "  </thead>\n",
              "  <tbody>\n",
              "    <tr>\n",
              "      <th>0</th>\n",
              "      <td>204182</td>\n",
              "      <td>fully-dressed</td>\n",
              "      <td>2008</td>\n",
              "      <td>annie</td>\n",
              "      <td>Pop</td>\n",
              "      <td>[HEALY]\\n[spoken] This is Bert Healy saying .....</td>\n",
              "      <td>1041</td>\n",
              "      <td>healy spoken this bert healy saying singing he...</td>\n",
              "      <td>826</td>\n",
              "      <td>healy spoken bert healy saying singing hey hob...</td>\n",
              "      <td>0</td>\n",
              "      <td>0</td>\n",
              "      <td>0</td>\n",
              "      <td>0</td>\n",
              "      <td>0</td>\n",
              "      <td>0</td>\n",
              "      <td>0</td>\n",
              "      <td>0</td>\n",
              "      <td>0</td>\n",
              "      <td>0</td>\n",
              "      <td>0</td>\n",
              "      <td>0</td>\n",
              "      <td>0</td>\n",
              "      <td>0</td>\n",
              "      <td>0</td>\n",
              "      <td>0</td>\n",
              "      <td>0</td>\n",
              "      <td>0</td>\n",
              "      <td>0</td>\n",
              "      <td>0</td>\n",
              "      <td>0</td>\n",
              "      <td>0</td>\n",
              "      <td>0</td>\n",
              "      <td>0</td>\n",
              "      <td>0</td>\n",
              "      <td>0</td>\n",
              "      <td>0</td>\n",
              "      <td>0</td>\n",
              "      <td>0</td>\n",
              "      <td>0</td>\n",
              "      <td>...</td>\n",
              "      <td>0</td>\n",
              "      <td>0</td>\n",
              "      <td>0</td>\n",
              "      <td>0</td>\n",
              "      <td>0</td>\n",
              "      <td>0</td>\n",
              "      <td>0</td>\n",
              "      <td>0</td>\n",
              "      <td>0</td>\n",
              "      <td>0</td>\n",
              "      <td>0</td>\n",
              "      <td>0</td>\n",
              "      <td>0</td>\n",
              "      <td>0</td>\n",
              "      <td>1</td>\n",
              "      <td>0</td>\n",
              "      <td>0</td>\n",
              "      <td>0</td>\n",
              "      <td>0</td>\n",
              "      <td>0</td>\n",
              "      <td>0</td>\n",
              "      <td>0</td>\n",
              "      <td>0</td>\n",
              "      <td>0</td>\n",
              "      <td>0</td>\n",
              "      <td>0</td>\n",
              "      <td>0</td>\n",
              "      <td>0</td>\n",
              "      <td>0</td>\n",
              "      <td>0</td>\n",
              "      <td>0</td>\n",
              "      <td>0</td>\n",
              "      <td>0</td>\n",
              "      <td>0</td>\n",
              "      <td>0</td>\n",
              "      <td>0</td>\n",
              "      <td>0</td>\n",
              "      <td>0</td>\n",
              "      <td>0</td>\n",
              "      <td>0</td>\n",
              "    </tr>\n",
              "    <tr>\n",
              "      <th>1</th>\n",
              "      <td>6116</td>\n",
              "      <td>surrounded-by-hoes</td>\n",
              "      <td>2006</td>\n",
              "      <td>50-cent</td>\n",
              "      <td>Hip-Hop</td>\n",
              "      <td>[Chorus: repeat 2X] Even when I'm tryin to be ...</td>\n",
              "      <td>1392</td>\n",
              "      <td>chorus repeat x even i tryin low i recognized ...</td>\n",
              "      <td>884</td>\n",
              "      <td>chorus repeat 2x even tryin low recognized hoe...</td>\n",
              "      <td>0</td>\n",
              "      <td>1</td>\n",
              "      <td>0</td>\n",
              "      <td>0</td>\n",
              "      <td>1</td>\n",
              "      <td>0</td>\n",
              "      <td>0</td>\n",
              "      <td>0</td>\n",
              "      <td>2</td>\n",
              "      <td>0</td>\n",
              "      <td>0</td>\n",
              "      <td>0</td>\n",
              "      <td>0</td>\n",
              "      <td>0</td>\n",
              "      <td>0</td>\n",
              "      <td>0</td>\n",
              "      <td>1</td>\n",
              "      <td>0</td>\n",
              "      <td>0</td>\n",
              "      <td>0</td>\n",
              "      <td>0</td>\n",
              "      <td>0</td>\n",
              "      <td>0</td>\n",
              "      <td>0</td>\n",
              "      <td>0</td>\n",
              "      <td>0</td>\n",
              "      <td>0</td>\n",
              "      <td>0</td>\n",
              "      <td>0</td>\n",
              "      <td>0</td>\n",
              "      <td>...</td>\n",
              "      <td>0</td>\n",
              "      <td>0</td>\n",
              "      <td>0</td>\n",
              "      <td>0</td>\n",
              "      <td>0</td>\n",
              "      <td>0</td>\n",
              "      <td>0</td>\n",
              "      <td>0</td>\n",
              "      <td>0</td>\n",
              "      <td>0</td>\n",
              "      <td>0</td>\n",
              "      <td>0</td>\n",
              "      <td>0</td>\n",
              "      <td>0</td>\n",
              "      <td>1</td>\n",
              "      <td>0</td>\n",
              "      <td>0</td>\n",
              "      <td>0</td>\n",
              "      <td>0</td>\n",
              "      <td>0</td>\n",
              "      <td>2</td>\n",
              "      <td>0</td>\n",
              "      <td>0</td>\n",
              "      <td>0</td>\n",
              "      <td>0</td>\n",
              "      <td>0</td>\n",
              "      <td>0</td>\n",
              "      <td>1</td>\n",
              "      <td>0</td>\n",
              "      <td>0</td>\n",
              "      <td>0</td>\n",
              "      <td>0</td>\n",
              "      <td>0</td>\n",
              "      <td>0</td>\n",
              "      <td>0</td>\n",
              "      <td>0</td>\n",
              "      <td>0</td>\n",
              "      <td>0</td>\n",
              "      <td>0</td>\n",
              "      <td>0</td>\n",
              "    </tr>\n",
              "    <tr>\n",
              "      <th>2</th>\n",
              "      <td>166369</td>\n",
              "      <td>taste-the-tears-thunderpuss-remix</td>\n",
              "      <td>2006</td>\n",
              "      <td>amber</td>\n",
              "      <td>Pop</td>\n",
              "      <td>How could you cause me so much pain?\\nAnd leav...</td>\n",
              "      <td>1113</td>\n",
              "      <td>how could cause much pain and leave heart rain...</td>\n",
              "      <td>756</td>\n",
              "      <td>could cause much pain leave heart rain gave ev...</td>\n",
              "      <td>0</td>\n",
              "      <td>0</td>\n",
              "      <td>0</td>\n",
              "      <td>0</td>\n",
              "      <td>0</td>\n",
              "      <td>0</td>\n",
              "      <td>0</td>\n",
              "      <td>0</td>\n",
              "      <td>0</td>\n",
              "      <td>0</td>\n",
              "      <td>0</td>\n",
              "      <td>0</td>\n",
              "      <td>0</td>\n",
              "      <td>0</td>\n",
              "      <td>0</td>\n",
              "      <td>0</td>\n",
              "      <td>0</td>\n",
              "      <td>0</td>\n",
              "      <td>0</td>\n",
              "      <td>0</td>\n",
              "      <td>0</td>\n",
              "      <td>0</td>\n",
              "      <td>0</td>\n",
              "      <td>0</td>\n",
              "      <td>0</td>\n",
              "      <td>0</td>\n",
              "      <td>0</td>\n",
              "      <td>0</td>\n",
              "      <td>0</td>\n",
              "      <td>0</td>\n",
              "      <td>...</td>\n",
              "      <td>0</td>\n",
              "      <td>0</td>\n",
              "      <td>0</td>\n",
              "      <td>0</td>\n",
              "      <td>0</td>\n",
              "      <td>0</td>\n",
              "      <td>0</td>\n",
              "      <td>0</td>\n",
              "      <td>0</td>\n",
              "      <td>0</td>\n",
              "      <td>0</td>\n",
              "      <td>0</td>\n",
              "      <td>0</td>\n",
              "      <td>0</td>\n",
              "      <td>0</td>\n",
              "      <td>0</td>\n",
              "      <td>0</td>\n",
              "      <td>0</td>\n",
              "      <td>0</td>\n",
              "      <td>0</td>\n",
              "      <td>0</td>\n",
              "      <td>0</td>\n",
              "      <td>0</td>\n",
              "      <td>0</td>\n",
              "      <td>0</td>\n",
              "      <td>0</td>\n",
              "      <td>0</td>\n",
              "      <td>0</td>\n",
              "      <td>0</td>\n",
              "      <td>0</td>\n",
              "      <td>0</td>\n",
              "      <td>0</td>\n",
              "      <td>0</td>\n",
              "      <td>0</td>\n",
              "      <td>0</td>\n",
              "      <td>0</td>\n",
              "      <td>0</td>\n",
              "      <td>0</td>\n",
              "      <td>0</td>\n",
              "      <td>0</td>\n",
              "    </tr>\n",
              "    <tr>\n",
              "      <th>3</th>\n",
              "      <td>198416</td>\n",
              "      <td>the-truth-will-set-me-free</td>\n",
              "      <td>2006</td>\n",
              "      <td>glenn-hughes</td>\n",
              "      <td>Rock</td>\n",
              "      <td>In a scarlet vision\\nIn a velvet room\\nI come ...</td>\n",
              "      <td>779</td>\n",
              "      <td>in scarlet vision in velvet room i come decisi...</td>\n",
              "      <td>583</td>\n",
              "      <td>scarlet vision velvet room come decision dog d...</td>\n",
              "      <td>0</td>\n",
              "      <td>0</td>\n",
              "      <td>0</td>\n",
              "      <td>0</td>\n",
              "      <td>0</td>\n",
              "      <td>0</td>\n",
              "      <td>0</td>\n",
              "      <td>0</td>\n",
              "      <td>0</td>\n",
              "      <td>0</td>\n",
              "      <td>0</td>\n",
              "      <td>0</td>\n",
              "      <td>0</td>\n",
              "      <td>0</td>\n",
              "      <td>0</td>\n",
              "      <td>0</td>\n",
              "      <td>0</td>\n",
              "      <td>0</td>\n",
              "      <td>0</td>\n",
              "      <td>0</td>\n",
              "      <td>0</td>\n",
              "      <td>0</td>\n",
              "      <td>0</td>\n",
              "      <td>0</td>\n",
              "      <td>0</td>\n",
              "      <td>0</td>\n",
              "      <td>0</td>\n",
              "      <td>0</td>\n",
              "      <td>0</td>\n",
              "      <td>0</td>\n",
              "      <td>...</td>\n",
              "      <td>0</td>\n",
              "      <td>0</td>\n",
              "      <td>0</td>\n",
              "      <td>0</td>\n",
              "      <td>0</td>\n",
              "      <td>0</td>\n",
              "      <td>0</td>\n",
              "      <td>0</td>\n",
              "      <td>0</td>\n",
              "      <td>0</td>\n",
              "      <td>0</td>\n",
              "      <td>0</td>\n",
              "      <td>0</td>\n",
              "      <td>0</td>\n",
              "      <td>0</td>\n",
              "      <td>0</td>\n",
              "      <td>0</td>\n",
              "      <td>0</td>\n",
              "      <td>0</td>\n",
              "      <td>0</td>\n",
              "      <td>0</td>\n",
              "      <td>0</td>\n",
              "      <td>0</td>\n",
              "      <td>0</td>\n",
              "      <td>0</td>\n",
              "      <td>0</td>\n",
              "      <td>0</td>\n",
              "      <td>0</td>\n",
              "      <td>0</td>\n",
              "      <td>0</td>\n",
              "      <td>0</td>\n",
              "      <td>0</td>\n",
              "      <td>0</td>\n",
              "      <td>0</td>\n",
              "      <td>0</td>\n",
              "      <td>0</td>\n",
              "      <td>0</td>\n",
              "      <td>0</td>\n",
              "      <td>0</td>\n",
              "      <td>0</td>\n",
              "    </tr>\n",
              "    <tr>\n",
              "      <th>4</th>\n",
              "      <td>127800</td>\n",
              "      <td>the-last-goodbye</td>\n",
              "      <td>2008</td>\n",
              "      <td>aaron-pritchett</td>\n",
              "      <td>Country</td>\n",
              "      <td>Sprintime in Savannah\\nIt dont get much pretti...</td>\n",
              "      <td>881</td>\n",
              "      <td>sprintime savannah it dont get much prettier b...</td>\n",
              "      <td>639</td>\n",
              "      <td>sprintime savannah dont get much prettier feel...</td>\n",
              "      <td>0</td>\n",
              "      <td>0</td>\n",
              "      <td>0</td>\n",
              "      <td>0</td>\n",
              "      <td>0</td>\n",
              "      <td>0</td>\n",
              "      <td>0</td>\n",
              "      <td>0</td>\n",
              "      <td>0</td>\n",
              "      <td>0</td>\n",
              "      <td>0</td>\n",
              "      <td>0</td>\n",
              "      <td>0</td>\n",
              "      <td>0</td>\n",
              "      <td>0</td>\n",
              "      <td>0</td>\n",
              "      <td>0</td>\n",
              "      <td>0</td>\n",
              "      <td>0</td>\n",
              "      <td>0</td>\n",
              "      <td>0</td>\n",
              "      <td>0</td>\n",
              "      <td>0</td>\n",
              "      <td>0</td>\n",
              "      <td>0</td>\n",
              "      <td>0</td>\n",
              "      <td>0</td>\n",
              "      <td>0</td>\n",
              "      <td>0</td>\n",
              "      <td>0</td>\n",
              "      <td>...</td>\n",
              "      <td>0</td>\n",
              "      <td>0</td>\n",
              "      <td>0</td>\n",
              "      <td>0</td>\n",
              "      <td>0</td>\n",
              "      <td>0</td>\n",
              "      <td>0</td>\n",
              "      <td>0</td>\n",
              "      <td>0</td>\n",
              "      <td>0</td>\n",
              "      <td>0</td>\n",
              "      <td>0</td>\n",
              "      <td>0</td>\n",
              "      <td>0</td>\n",
              "      <td>0</td>\n",
              "      <td>0</td>\n",
              "      <td>0</td>\n",
              "      <td>0</td>\n",
              "      <td>0</td>\n",
              "      <td>0</td>\n",
              "      <td>0</td>\n",
              "      <td>0</td>\n",
              "      <td>0</td>\n",
              "      <td>0</td>\n",
              "      <td>0</td>\n",
              "      <td>0</td>\n",
              "      <td>0</td>\n",
              "      <td>0</td>\n",
              "      <td>0</td>\n",
              "      <td>0</td>\n",
              "      <td>0</td>\n",
              "      <td>0</td>\n",
              "      <td>0</td>\n",
              "      <td>0</td>\n",
              "      <td>0</td>\n",
              "      <td>0</td>\n",
              "      <td>0</td>\n",
              "      <td>0</td>\n",
              "      <td>0</td>\n",
              "      <td>0</td>\n",
              "    </tr>\n",
              "  </tbody>\n",
              "</table>\n",
              "<p>5 rows × 2991 columns</p>\n",
              "</div>"
            ],
            "text/plain": [
              "   Unnamed: 0                               song  year  ... zone zu zum\n",
              "0      204182                      fully-dressed  2008  ...    0  0   0\n",
              "1        6116                 surrounded-by-hoes  2006  ...    0  0   0\n",
              "2      166369  taste-the-tears-thunderpuss-remix  2006  ...    0  0   0\n",
              "3      198416         the-truth-will-set-me-free  2006  ...    0  0   0\n",
              "4      127800                   the-last-goodbye  2008  ...    0  0   0\n",
              "\n",
              "[5 rows x 2991 columns]"
            ]
          },
          "metadata": {
            "tags": []
          },
          "execution_count": 11
        }
      ]
    },
    {
      "cell_type": "code",
      "metadata": {
        "colab": {
          "base_uri": "https://localhost:8080/",
          "height": 204
        },
        "id": "xFjwmzNi2u1A",
        "outputId": "f99a0a28-801c-4be6-d68d-9c73dd7337e8"
      },
      "source": [
        "ganre_df_list = []\n",
        "top_ganre_words = {}\n",
        "genre_df = df.groupby('genre').agg(sum)[bow_df.columns]\n",
        "genre_df = genre_df / genre_df.sum()\n",
        "\n",
        "for genre in genre_df.index:\n",
        "  words = genre_df.T[genre].sort_values(ascending=False)[0:50].index\n",
        "  genre = [genre]*50\n",
        "  temp_df = pd.DataFrame([words,genre]).T\n",
        "  ganre_df_list.append(temp_df)\n",
        "  \n",
        "ganre_df = pd.concat(ganre_df_list)\n",
        "ganre_df.columns = ['words','genre']\n",
        "ganre_df.head()"
      ],
      "execution_count": 12,
      "outputs": [
        {
          "output_type": "execute_result",
          "data": {
            "text/html": [
              "<div>\n",
              "<style scoped>\n",
              "    .dataframe tbody tr th:only-of-type {\n",
              "        vertical-align: middle;\n",
              "    }\n",
              "\n",
              "    .dataframe tbody tr th {\n",
              "        vertical-align: top;\n",
              "    }\n",
              "\n",
              "    .dataframe thead th {\n",
              "        text-align: right;\n",
              "    }\n",
              "</style>\n",
              "<table border=\"1\" class=\"dataframe\">\n",
              "  <thead>\n",
              "    <tr style=\"text-align: right;\">\n",
              "      <th></th>\n",
              "      <th>words</th>\n",
              "      <th>genre</th>\n",
              "    </tr>\n",
              "  </thead>\n",
              "  <tbody>\n",
              "    <tr>\n",
              "      <th>0</th>\n",
              "      <td>tennessee</td>\n",
              "      <td>Country</td>\n",
              "    </tr>\n",
              "    <tr>\n",
              "      <th>1</th>\n",
              "      <td>lonesome</td>\n",
              "      <td>Country</td>\n",
              "    </tr>\n",
              "    <tr>\n",
              "      <th>2</th>\n",
              "      <td>cowboy</td>\n",
              "      <td>Country</td>\n",
              "    </tr>\n",
              "    <tr>\n",
              "      <th>3</th>\n",
              "      <td>sweetheart</td>\n",
              "      <td>Country</td>\n",
              "    </tr>\n",
              "    <tr>\n",
              "      <th>4</th>\n",
              "      <td>whiskey</td>\n",
              "      <td>Country</td>\n",
              "    </tr>\n",
              "  </tbody>\n",
              "</table>\n",
              "</div>"
            ],
            "text/plain": [
              "        words    genre\n",
              "0   tennessee  Country\n",
              "1    lonesome  Country\n",
              "2      cowboy  Country\n",
              "3  sweetheart  Country\n",
              "4     whiskey  Country"
            ]
          },
          "metadata": {
            "tags": []
          },
          "execution_count": 12
        }
      ]
    },
    {
      "cell_type": "code",
      "metadata": {
        "colab": {
          "base_uri": "https://localhost:8080/",
          "height": 204
        },
        "id": "-yjpX8SmzcOW",
        "outputId": "2c25fd2a-65e7-46fa-9c19-79cf42b3fa45"
      },
      "source": [
        "from sklearn.manifold import TSNE\n",
        "import numpy as np\n",
        "ganre_df[['x','y']] = TSNE(n_components=2, random_state=0, perplexity=15).fit_transform(np.array([w2v_model.wv.get_vector(word) for word in ganre_df['words']]))\n",
        "\n",
        "colors_dict = {'Country':'red','Hip-Hop':'blue','Metal':'black','Pop':'yellow','Rock':'green'}\n",
        "ganre_df['color']= ganre_df['genre'].map(colors_dict)\n",
        "\n",
        "ganre_df.head()"
      ],
      "execution_count": 13,
      "outputs": [
        {
          "output_type": "execute_result",
          "data": {
            "text/html": [
              "<div>\n",
              "<style scoped>\n",
              "    .dataframe tbody tr th:only-of-type {\n",
              "        vertical-align: middle;\n",
              "    }\n",
              "\n",
              "    .dataframe tbody tr th {\n",
              "        vertical-align: top;\n",
              "    }\n",
              "\n",
              "    .dataframe thead th {\n",
              "        text-align: right;\n",
              "    }\n",
              "</style>\n",
              "<table border=\"1\" class=\"dataframe\">\n",
              "  <thead>\n",
              "    <tr style=\"text-align: right;\">\n",
              "      <th></th>\n",
              "      <th>words</th>\n",
              "      <th>genre</th>\n",
              "      <th>x</th>\n",
              "      <th>y</th>\n",
              "      <th>color</th>\n",
              "    </tr>\n",
              "  </thead>\n",
              "  <tbody>\n",
              "    <tr>\n",
              "      <th>0</th>\n",
              "      <td>tennessee</td>\n",
              "      <td>Country</td>\n",
              "      <td>0.860169</td>\n",
              "      <td>-18.429052</td>\n",
              "      <td>red</td>\n",
              "    </tr>\n",
              "    <tr>\n",
              "      <th>1</th>\n",
              "      <td>lonesome</td>\n",
              "      <td>Country</td>\n",
              "      <td>14.732977</td>\n",
              "      <td>-12.569818</td>\n",
              "      <td>red</td>\n",
              "    </tr>\n",
              "    <tr>\n",
              "      <th>2</th>\n",
              "      <td>cowboy</td>\n",
              "      <td>Country</td>\n",
              "      <td>1.684922</td>\n",
              "      <td>-30.025034</td>\n",
              "      <td>red</td>\n",
              "    </tr>\n",
              "    <tr>\n",
              "      <th>3</th>\n",
              "      <td>sweetheart</td>\n",
              "      <td>Country</td>\n",
              "      <td>38.363983</td>\n",
              "      <td>1.614104</td>\n",
              "      <td>red</td>\n",
              "    </tr>\n",
              "    <tr>\n",
              "      <th>4</th>\n",
              "      <td>whiskey</td>\n",
              "      <td>Country</td>\n",
              "      <td>22.607750</td>\n",
              "      <td>-79.168373</td>\n",
              "      <td>red</td>\n",
              "    </tr>\n",
              "  </tbody>\n",
              "</table>\n",
              "</div>"
            ],
            "text/plain": [
              "        words    genre          x          y color\n",
              "0   tennessee  Country   0.860169 -18.429052   red\n",
              "1    lonesome  Country  14.732977 -12.569818   red\n",
              "2      cowboy  Country   1.684922 -30.025034   red\n",
              "3  sweetheart  Country  38.363983   1.614104   red\n",
              "4     whiskey  Country  22.607750 -79.168373   red"
            ]
          },
          "metadata": {
            "tags": []
          },
          "execution_count": 13
        }
      ]
    },
    {
      "cell_type": "code",
      "metadata": {
        "colab": {
          "base_uri": "https://localhost:8080/",
          "height": 877
        },
        "id": "72Yvgw9Z8Tmg",
        "outputId": "f40244d4-5026-4f1d-a26a-f293ee278313"
      },
      "source": [
        "import matplotlib.pyplot as plt\n",
        "\n",
        "from matplotlib.patches import Patch\n",
        "from matplotlib.lines import Line2D\n",
        "\n",
        "custom_lines = [Line2D([0], [0], color=color, lw=4) for color in colors_dict.values()]\n",
        "\n",
        "fig, _ = plt.subplots()\n",
        "fig.set_size_inches(15, 15)\n",
        "\n",
        "p1 = sns.regplot(data=ganre_df,\n",
        "                x=\"x\",\n",
        "                y=\"y\",\n",
        "                fit_reg=False,\n",
        "                marker=\"o\",\n",
        "                scatter_kws={'s': 40,\n",
        "                              'facecolors': ganre_df['color']\n",
        "                            }\n",
        "                )\n",
        "\n",
        "for row in ganre_df.itertuples():\n",
        "  plt.text(row[3] +4, row[4], row[1], horizontalalignment='left', size='small', color='black', weight='semibold')\n",
        "plt.legend(custom_lines,colors_dict.keys())\n",
        "plt.show()"
      ],
      "execution_count": 14,
      "outputs": [
        {
          "output_type": "display_data",
          "data": {
            "image/png": "[encoded data removed]",
            "text/plain": [
              "<Figure size 1080x1080 with 1 Axes>"
            ]
          },
          "metadata": {
            "tags": [],
            "needs_background": "light"
          }
        }
      ]
    },
    {
      "cell_type": "markdown",
      "metadata": {
        "id": "uRXNLkOT0Snj"
      },
      "source": [
        "## Text Classification\n",
        "In this section, you'll build a text classifier, determining the genre of a song based on its lyrics."
      ]
    },
    {
      "cell_type": "markdown",
      "metadata": {
        "id": "VIdnGd400Snj"
      },
      "source": [
        "### Text classification using Bag-of-Words\n",
        "Build a Naive Bayes classifier based on the bag of Words.  \n",
        "You will need to divide your dataset into a train and test sets."
      ]
    },
    {
      "cell_type": "code",
      "metadata": {
        "id": "wXoJJ0A40Snj"
      },
      "source": [
        "from sklearn.feature_extraction.text import CountVectorizer, TfidfVectorizer\n",
        "from sklearn.metrics import confusion_matrix, accuracy_score\n",
        "from sklearn.model_selection import train_test_split\n",
        "from sklearn.pipeline import make_pipeline\n",
        "from sklearn.naive_bayes import MultinomialNB\n",
        "\n",
        "X_train, X_test, y_train, y_test = train_test_split(df['clean_lyrics'], df['genre'], test_size=0.33, random_state=42)\n",
        "\n",
        "model = make_pipeline(CountVectorizer(), MultinomialNB())\n",
        "model.fit(X_train, y_train)\n",
        "predicted_categories = model.predict(X_test)"
      ],
      "execution_count": 15,
      "outputs": []
    },
    {
      "cell_type": "markdown",
      "metadata": {
        "id": "Adk4iqDZ0Snk"
      },
      "source": [
        "Show the confusion matrix."
      ]
    },
    {
      "cell_type": "code",
      "metadata": {
        "id": "lG3wlmap0Snk",
        "colab": {
          "base_uri": "https://localhost:8080/",
          "height": 300
        },
        "outputId": "c97604a2-3115-4eb4-e02e-cf9a946313bb"
      },
      "source": [
        "# plot the confusion matrix\n",
        "labels = df['genre'].unique()\n",
        "mat = confusion_matrix(y_test, predicted_categories, labels)\n",
        "sns.heatmap(mat.T, square = True, annot=True, fmt = \"d\", xticklabels=labels,yticklabels=labels)\n",
        "plt.yticks(rotation=0)\n",
        "plt.xlabel(\"true labels\")\n",
        "plt.ylabel(\"predicted label\")\n",
        "plt.show()\n",
        "print(\"The accuracy is {}\".format(accuracy_score(y_test, predicted_categories)))\n"
      ],
      "execution_count": 16,
      "outputs": [
        {
          "output_type": "display_data",
          "data": {
            "image/png": "[encoded data removed]",
            "text/plain": [
              "<Figure size 432x288 with 2 Axes>"
            ]
          },
          "metadata": {
            "tags": [],
            "needs_background": "light"
          }
        },
        {
          "output_type": "stream",
          "text": [
            "The accuracy is 0.5979506457284909\n"
          ],
          "name": "stdout"
        }
      ]
    },
    {
      "cell_type": "markdown",
      "metadata": {
        "id": "Q3ZvAhxW0Snk"
      },
      "source": [
        "Show the classification report - precision, recall, f1 for each class."
      ]
    },
    {
      "cell_type": "code",
      "metadata": {
        "id": "kvqae0TN0Snk",
        "colab": {
          "base_uri": "https://localhost:8080/"
        },
        "outputId": "14fadb24-83cf-4d51-d881-0afd10ff0486"
      },
      "source": [
        "from sklearn.metrics import classification_report\n",
        "print(classification_report(y_test, predicted_categories,target_names=labels))"
      ],
      "execution_count": 17,
      "outputs": [
        {
          "output_type": "stream",
          "text": [
            "              precision    recall  f1-score   support\n",
            "\n",
            "         Pop       0.52      0.79      0.63      2713\n",
            "     Hip-Hop       0.76      0.78      0.77      3204\n",
            "        Rock       0.74      0.72      0.73      3075\n",
            "     Country       0.56      0.33      0.41      3651\n",
            "       Metal       0.45      0.47      0.46      3850\n",
            "\n",
            "    accuracy                           0.60     16493\n",
            "   macro avg       0.61      0.62      0.60     16493\n",
            "weighted avg       0.60      0.60      0.59     16493\n",
            "\n"
          ],
          "name": "stdout"
        }
      ]
    },
    {
      "cell_type": "markdown",
      "metadata": {
        "id": "P_7-WYlk0Snk"
      },
      "source": [
        "### Text classification using Word Vectors\n",
        "#### Average word vectors\n",
        "Do the same, using a classifier that averages the word vectors of words in the document."
      ]
    },
    {
      "cell_type": "code",
      "metadata": {
        "colab": {
          "base_uri": "https://localhost:8080/"
        },
        "id": "5W8mSaTHcd3c",
        "outputId": "28aa6cab-f078-4c42-c992-5bb554f72932"
      },
      "source": [
        "def get_avg_vec(text):\n",
        "  vec_list = []\n",
        "  words = text.split()\n",
        "  for word in words:\n",
        "    try:\n",
        "      vec_list.append(w2v_model.wv.get_vector(word))\n",
        "    except:\n",
        "      continue\n",
        "  return   np.mean(vec_list,axis=0)\n",
        "\n",
        "df['avg_vec'] = df.apply(lambda x: get_avg_vec(x['clean_lyrics']),axis=1) \n",
        "df['avg_vec'].head()"
      ],
      "execution_count": 18,
      "outputs": [
        {
          "output_type": "execute_result",
          "data": {
            "text/plain": [
              "0    [-0.25389954, -0.08514764, -0.20556004, -0.066...\n",
              "1    [-0.40568542, -0.39981994, -0.29856548, 0.2116...\n",
              "2    [0.099167004, -0.11744166, -0.2387536, -0.1951...\n",
              "3    [-0.07842293, -0.24766974, -0.2945381, -0.4112...\n",
              "4    [-0.17937186, -0.14173925, -0.13446811, -0.362...\n",
              "Name: avg_vec, dtype: object"
            ]
          },
          "metadata": {
            "tags": []
          },
          "execution_count": 18
        }
      ]
    },
    {
      "cell_type": "code",
      "metadata": {
        "id": "gVWLSIKRwmyJ"
      },
      "source": [
        "from xgboost import XGBClassifier\n",
        "from sklearn.linear_model import LogisticRegression\n",
        "from sklearn.ensemble import RandomForestClassifier\n",
        "X_train, X_test, y_train, y_test = train_test_split(df['avg_vec'].apply(pd.Series), df['genre'], test_size=0.33, random_state=42)\n",
        "\n",
        "# model = XGBClassifier()\n",
        "model = RandomForestClassifier()\n",
        "\n",
        "model.fit(X_train,y_train)\n",
        "predicted_categories = model.predict(X_test)"
      ],
      "execution_count": 19,
      "outputs": []
    },
    {
      "cell_type": "code",
      "metadata": {
        "colab": {
          "base_uri": "https://localhost:8080/",
          "height": 296
        },
        "id": "I6ll7qyaw6L6",
        "outputId": "04429c5c-8eeb-455c-af3a-eb324ea9d9c2"
      },
      "source": [
        "# plot the confusion matrix\n",
        "labels = df['genre'].unique()\n",
        "mat = confusion_matrix(y_test, predicted_categories, labels)\n",
        "\n",
        "sns.heatmap(mat.T, square = True, annot=True, fmt = \"d\", xticklabels=labels, yticklabels=labels)\n",
        "plt.yticks(rotation=0)\n",
        "plt.xlabel(\"true labels\")\n",
        "plt.ylabel(\"predicted label\")\n",
        "plt.show()\n",
        "print(\"The accuracy is {}\".format(accuracy_score(y_test, predicted_categories)))"
      ],
      "execution_count": 21,
      "outputs": [
        {
          "output_type": "display_data",
          "data": {
            "image/png": "[encoded data removed]",
            "text/plain": [
              "<Figure size 432x288 with 2 Axes>"
            ]
          },
          "metadata": {
            "tags": [],
            "needs_background": "light"
          }
        },
        {
          "output_type": "stream",
          "text": [
            "The accuracy is 0.5995270720911902\n"
          ],
          "name": "stdout"
        }
      ]
    },
    {
      "cell_type": "markdown",
      "metadata": {
        "id": "KazIor0O0Snk"
      },
      "source": [
        "#### TfIdf Weighting\n",
        "Do the same, using a classifier that averages the word vectors of words in the document, weighting each word by its TfIdf.\n"
      ]
    },
    {
      "cell_type": "code",
      "metadata": {
        "id": "thnJtL180Snl"
      },
      "source": [
        "vectorizer = TfidfVectorizer()\n",
        "X = vectorizer.fit_transform(df['clean_lyrics'])\n",
        "shared_words = set(word for word in w2v_model.wv.vocab.keys()).intersection(set(vectorizer.get_feature_names()))\n",
        "missing_words = set(vectorizer.get_feature_names()) - shared_words\n",
        "missing_words"
      ],
      "execution_count": null,
      "outputs": []
    },
    {
      "cell_type": "code",
      "metadata": {
        "id": "KxakdGlCx-FB"
      },
      "source": [
        "vectorizer = TfidfVectorizer(stop_words=missing_words)\n",
        "X = vectorizer.fit_transform(df['clean_lyrics'])"
      ],
      "execution_count": 31,
      "outputs": []
    },
    {
      "cell_type": "code",
      "metadata": {
        "colab": {
          "base_uri": "https://localhost:8080/"
        },
        "id": "kZTkvMfESMQH",
        "outputId": "b6a468ab-9402-484c-c76d-96cea6a41ab4"
      },
      "source": [
        "vectors = np.array([w2v_model.wv.get_vector(word) for word in vectorizer.get_feature_names()])\n",
        "print(vectors.shape)\n",
        "print(X.shape)"
      ],
      "execution_count": 51,
      "outputs": [
        {
          "output_type": "stream",
          "text": [
            "(18028, 300)\n",
            "(49976, 18028)\n"
          ],
          "name": "stdout"
        }
      ]
    },
    {
      "cell_type": "code",
      "metadata": {
        "id": "EyTgPE4jzSal"
      },
      "source": [
        "X = X.dot(vectors)"
      ],
      "execution_count": 55,
      "outputs": []
    },
    {
      "cell_type": "code",
      "metadata": {
        "colab": {
          "base_uri": "https://localhost:8080/"
        },
        "id": "eHcLL8tK1r0P",
        "outputId": "d5bc010a-636b-4aaf-d9ed-5a4c20d51353"
      },
      "source": [
        "X.shape"
      ],
      "execution_count": 58,
      "outputs": [
        {
          "output_type": "execute_result",
          "data": {
            "text/plain": [
              "(49976, 300)"
            ]
          },
          "metadata": {
            "tags": []
          },
          "execution_count": 58
        }
      ]
    },
    {
      "cell_type": "code",
      "metadata": {
        "id": "NBeHA5dB09-2"
      },
      "source": [
        "X_train, X_test, y_train, y_test = train_test_split(X, df['genre'], test_size=0.33, random_state=42)\n",
        "\n",
        "model = RandomForestClassifier()\n",
        "\n",
        "model.fit(X_train,y_train)\n",
        "predicted_categories = model.predict(X_test)"
      ],
      "execution_count": 56,
      "outputs": []
    },
    {
      "cell_type": "code",
      "metadata": {
        "colab": {
          "base_uri": "https://localhost:8080/",
          "height": 300
        },
        "id": "FCEPedKP1Xom",
        "outputId": "b07b3b2d-1ff0-4b3a-ae5b-c99e404ab3c8"
      },
      "source": [
        "# plot the confusion matrix\n",
        "labels = df['genre'].unique()\n",
        "mat = confusion_matrix(y_test, predicted_categories, labels)\n",
        "\n",
        "sns.heatmap(mat.T, square = True, annot=True, fmt = \"d\", xticklabels=labels, yticklabels=labels)\n",
        "plt.yticks(rotation=0)\n",
        "plt.xlabel(\"true labels\")\n",
        "plt.ylabel(\"predicted label\")\n",
        "plt.show()\n",
        "print(\"The accuracy is {}\".format(accuracy_score(y_test, predicted_categories)))"
      ],
      "execution_count": 57,
      "outputs": [
        {
          "output_type": "display_data",
          "data": {
            "image/png": "[encoded data removed]",
            "text/plain": [
              "<Figure size 432x288 with 2 Axes>"
            ]
          },
          "metadata": {
            "tags": [],
            "needs_background": "light"
          }
        },
        {
          "output_type": "stream",
          "text": [
            "The accuracy is 0.5991632813921057\n"
          ],
          "name": "stdout"
        }
      ]
    },
    {
      "cell_type": "markdown",
      "metadata": {
        "id": "95S2hUxA0Snl"
      },
      "source": [
        "### Text classification using ConvNet\n",
        "Do the same, using a ConvNet.  \n",
        "The ConvNet should get as input a 2D matrix where each column is an embedding vector of a single word, and words are in order. Use zero padding so that all matrices have a similar length.  \n",
        "Some songs might be very long. Trim them so you keep a maximum of 128 words (after cleaning stop words and rare words).  \n",
        "Initialize the embedding layer using the word vectors that you've trained before, but allow them to change during training.  \n",
        "\n",
        "Extra: Try training the ConvNet with 2 slight modifications:\n",
        "1. freezing the the weights trained using Word2vec (preventing it from updating)\n",
        "1. random initialization of the embedding layer"
      ]
    },
    {
      "cell_type": "markdown",
      "metadata": {
        "id": "7EaIO7YE0Snl"
      },
      "source": [
        "You are encouraged to try this question on your own.  \n",
        "\n",
        "You might prefer to get ideas from the paper \"Convolutional Neural Networks for Sentence Classification\" (Kim 2014, [link](https://arxiv.org/abs/1408.5882)).\n",
        "\n",
        "There are several implementations of the paper code in PyTorch online (see for example [this repo](https://github.com/prakashpandey9/Text-Classification-Pytorch) for a PyTorch implementation of CNN and other architectures for text classification). If you get stuck, they might provide you with a reference for your own code."
      ]
    },
    {
      "cell_type": "code",
      "metadata": {
        "id": "Ls0-0BHO0Snl",
        "colab": {
          "base_uri": "https://localhost:8080/"
        },
        "outputId": "090e54ca-5776-4e3b-d767-1531825f5d59"
      },
      "source": [
        "import numpy as np\n",
        "import pandas as pd\n",
        "import torch\n",
        "import os\n",
        "if not os.path.exists('Embeddings'):\n",
        "  os.mkdir('Embeddings')\n",
        "  for ganre in df['genre'].unique():\n",
        "    os.mkdir(f'Embeddings/{ganre}')\n",
        "\n",
        "def get_songs_vectors(row):\n",
        "\n",
        "  text = row['clean_lyrics']\n",
        "  genre = row['genre']\n",
        "  song = row['song']\n",
        "  if row.name % 1000 ==0 and row.name !=0:\n",
        "    print(f'{row.name} files was calculated...')\n",
        "\n",
        "  song_vec = []\n",
        "  countr = 0\n",
        "  for word in text.split(): \n",
        "    try:\n",
        "      song_vec.append(w2v_model.wv.get_vector(word))\n",
        "      countr+=1\n",
        "      if countr==128:\n",
        "        break\n",
        "    except:\n",
        "      continue\n",
        "  song_vec = np.array(song_vec)\n",
        "\n",
        "  if song_vec.shape[0]<128:\n",
        "    song_vec = np.concatenate([song_vec,np.zeros(((128-song_vec.shape[0]),300))])\n",
        "\n",
        "  torch.save(torch.tensor(song_vec), f'Embeddings//{genre}//{song}.pt')\n",
        "    \n",
        "  # return song_vec\n",
        "\n",
        "df.apply(lambda x: get_songs_vectors(x),axis=1)"
      ],
      "execution_count": 10,
      "outputs": [
        {
          "output_type": "stream",
          "text": [
            "1000 files was calculated...\n",
            "2000 files was calculated...\n",
            "3000 files was calculated...\n",
            "4000 files was calculated...\n",
            "5000 files was calculated...\n",
            "6000 files was calculated...\n",
            "7000 files was calculated...\n",
            "8000 files was calculated...\n",
            "9000 files was calculated...\n",
            "10000 files was calculated...\n",
            "11000 files was calculated...\n",
            "12000 files was calculated...\n",
            "13000 files was calculated...\n",
            "14000 files was calculated...\n",
            "15000 files was calculated...\n",
            "16000 files was calculated...\n",
            "17000 files was calculated...\n",
            "18000 files was calculated...\n",
            "19000 files was calculated...\n",
            "20000 files was calculated...\n",
            "21000 files was calculated...\n",
            "22000 files was calculated...\n",
            "23000 files was calculated...\n",
            "24000 files was calculated...\n",
            "25000 files was calculated...\n",
            "26000 files was calculated...\n",
            "27000 files was calculated...\n",
            "28000 files was calculated...\n",
            "29000 files was calculated...\n",
            "30000 files was calculated...\n",
            "31000 files was calculated...\n",
            "32000 files was calculated...\n",
            "33000 files was calculated...\n",
            "34000 files was calculated...\n",
            "35000 files was calculated...\n",
            "36000 files was calculated...\n",
            "37000 files was calculated...\n",
            "38000 files was calculated...\n",
            "39000 files was calculated...\n",
            "40000 files was calculated...\n",
            "41000 files was calculated...\n",
            "42000 files was calculated...\n",
            "43000 files was calculated...\n",
            "44000 files was calculated...\n",
            "45000 files was calculated...\n",
            "46000 files was calculated...\n",
            "47000 files was calculated...\n",
            "48000 files was calculated...\n",
            "49000 files was calculated...\n"
          ],
          "name": "stdout"
        },
        {
          "output_type": "execute_result",
          "data": {
            "text/plain": [
              "0        None\n",
              "1        None\n",
              "2        None\n",
              "3        None\n",
              "4        None\n",
              "         ... \n",
              "49971    None\n",
              "49972    None\n",
              "49973    None\n",
              "49974    None\n",
              "49975    None\n",
              "Length: 49976, dtype: object"
            ]
          },
          "metadata": {
            "tags": []
          },
          "execution_count": 10
        }
      ]
    },
    {
      "cell_type": "code",
      "metadata": {
        "colab": {
          "base_uri": "https://localhost:8080/"
        },
        "id": "cxkvV0lU1YCR",
        "outputId": "69c88619-2ed3-476d-8929-f13f717d1c65"
      },
      "source": [
        "from torch import nn\n",
        "import torch.nn.functional as F\n",
        "\n",
        "class Network_batch(nn.Module):\n",
        "    def __init__(self):\n",
        "        super(Network_batch, self).__init__()\n",
        "        self.conv1 = nn.Conv2d(1, 6, 5, padding = 1)      \n",
        "        self.relu1 = nn.ReLU() \n",
        "        self.bn1 = nn.BatchNorm2d(6)\n",
        "        self.conv2 = nn.Conv2d(6, 16, 5)\n",
        "        self.relu2 = nn.ReLU() \n",
        "        self.bn2 = nn.BatchNorm2d(16)\n",
        "        self.conv3 = nn.Conv2d(16,32,3,padding = 1)\n",
        "        self.relu3 = nn.ReLU() \n",
        "        self.bn3 = nn.BatchNorm2d(32)\n",
        "        self.fc1 = nn.Linear(16128, 120)\n",
        "        self.dropout1 = nn.Dropout()\n",
        "        self.fc2 = nn.Linear(120, 84)\n",
        "        self.dropout2 = nn.Dropout()\n",
        "        self.fc3 = nn.Linear(84, 5)\n",
        "    def forward(self, x):\n",
        "        x = self.conv1(x)\n",
        "        x = self.relu1(x)\n",
        "        x = self.bn1(x)\n",
        "        x = F.max_pool2d(x,2,2)\n",
        "        x = self.conv2(x)\n",
        "        x = self.relu2(x)\n",
        "        x = self.bn2(x)\n",
        "        x = F.max_pool2d(x,2,2)\n",
        "        x = self.conv3(x)\n",
        "        x = self.bn3(x)\n",
        "        x = self.relu3(x)\n",
        "        x = F.avg_pool2d(x,2,2)\n",
        "        x = torch.flatten(x,1)\n",
        "        x = self.fc1(x)\n",
        "        x = F.relu(x)\n",
        "        x = self.dropout1(x)\n",
        "        x = self.fc2(x)\n",
        "        x = F.relu(x)\n",
        "        x = self.dropout2(x)\n",
        "        x = self.fc3(x)\n",
        "        return x\n",
        "\n",
        "device = torch.device(\"cuda:0\" if torch.cuda.is_available() else \"cpu\")\n",
        "\n",
        "net = Network_batch()\n",
        "net = net.to(device)\n",
        "channels=1; H=300; W=128\n",
        "from torchsummary import summary\n",
        "summary(net, input_size=(channels, H, W))"
      ],
      "execution_count": 11,
      "outputs": [
        {
          "output_type": "stream",
          "text": [
            "----------------------------------------------------------------\n",
            "        Layer (type)               Output Shape         Param #\n",
            "================================================================\n",
            "            Conv2d-1          [-1, 6, 298, 126]             156\n",
            "              ReLU-2          [-1, 6, 298, 126]               0\n",
            "       BatchNorm2d-3          [-1, 6, 298, 126]              12\n",
            "            Conv2d-4          [-1, 16, 145, 59]           2,416\n",
            "              ReLU-5          [-1, 16, 145, 59]               0\n",
            "       BatchNorm2d-6          [-1, 16, 145, 59]              32\n",
            "            Conv2d-7           [-1, 32, 72, 29]           4,640\n",
            "       BatchNorm2d-8           [-1, 32, 72, 29]              64\n",
            "              ReLU-9           [-1, 32, 72, 29]               0\n",
            "           Linear-10                  [-1, 120]       1,935,480\n",
            "          Dropout-11                  [-1, 120]               0\n",
            "           Linear-12                   [-1, 84]          10,164\n",
            "          Dropout-13                   [-1, 84]               0\n",
            "           Linear-14                    [-1, 5]             425\n",
            "================================================================\n",
            "Total params: 1,953,389\n",
            "Trainable params: 1,953,389\n",
            "Non-trainable params: 0\n",
            "----------------------------------------------------------------\n",
            "Input size (MB): 0.15\n",
            "Forward/backward pass size (MB): 9.82\n",
            "Params size (MB): 7.45\n",
            "Estimated Total Size (MB): 17.42\n",
            "----------------------------------------------------------------\n"
          ],
          "name": "stdout"
        }
      ]
    },
    {
      "cell_type": "code",
      "metadata": {
        "colab": {
          "base_uri": "https://localhost:8080/"
        },
        "id": "0Erij_zq1t-t",
        "outputId": "a242e085-bd4d-43d7-fcac-cfc51b35e103"
      },
      "source": [
        "from torch.utils.data import Dataset, DataLoader\n",
        "\n",
        "class LoadDataset(Dataset):\n",
        "    def __init__(self, dataset_obj, label_mapping, transform=None):\n",
        "        self.dataset = dataset_obj\n",
        "        self.transform = transform\n",
        "        self.label_mapping = label_mapping\n",
        "          \n",
        "    def __len__(self):\n",
        "        return len(self.dataset)\n",
        "\n",
        "    def __getitem__(self, idx):\n",
        "        item_path = self.dataset[idx][0]\n",
        "        item = torch.unsqueeze(torch.load(item_path),0)\n",
        "        label = self.dataset[idx][1]\n",
        "        sample = {'tensor': item, 'label': label_mapping[label]}\n",
        "        if self.transform:\n",
        "            sample = self.transform(sample)\n",
        "\n",
        "        return sample\n",
        "\n",
        "test_size = 0.2\n",
        "\n",
        "train_set = []\n",
        "test_set = []\n",
        "label_mapping = {}\n",
        "label_idx = 0\n",
        "for label in os.listdir('./Embeddings'):\n",
        "  label_mapping[label] = label_idx\n",
        "  label_idx +=1\n",
        "  for song in os.listdir(f'./Embeddings/{label}'):\n",
        "    if np.random.random() > test_size:\n",
        "      train_set.append((f'./Embeddings/{label}/{song}',label))\n",
        "    else:\n",
        "      test_set.append((f'./Embeddings/{label}/{song}',label))\n",
        "\n",
        "\n",
        "train_loader = DataLoader(LoadDataset(train_set, label_mapping = label_mapping),shuffle = True, batch_size = 16)\n",
        "test_loader = DataLoader(LoadDataset(test_set, label_mapping = label_mapping), shuffle = False, batch_size = 16)\n",
        "train_size = len(train_set)\n",
        "test_size = len(test_set)\n",
        "train_size,test_size"
      ],
      "execution_count": 12,
      "outputs": [
        {
          "output_type": "execute_result",
          "data": {
            "text/plain": [
              "(37063, 9286)"
            ]
          },
          "metadata": {
            "tags": []
          },
          "execution_count": 12
        }
      ]
    },
    {
      "cell_type": "code",
      "metadata": {
        "colab": {
          "base_uri": "https://localhost:8080/"
        },
        "id": "GMEXn1uE4fYP",
        "outputId": "86fb9e2f-48ac-48e5-8fd9-68bd9674450e"
      },
      "source": [
        "import torch.optim as optim\n",
        "from torch.optim import lr_scheduler\n",
        "import copy\n",
        "from datetime import datetime\n",
        "\n",
        "n_epochs = 10\n",
        "\n",
        "criterion = nn.CrossEntropyLoss()\n",
        "optimizer_ft = optim.SGD(net.parameters(), lr=0.005, momentum=0.9)\n",
        "exp_lr_scheduler = lr_scheduler.StepLR(optimizer_ft, step_size=7, gamma=0.1)\n",
        "\n",
        "best_accuracy = 0.0\n",
        "best_epoch_predictions = []\n",
        "best_model = copy.deepcopy(net.state_dict())\n",
        "\n",
        "train_accuracies = []\n",
        "test_accuracies = []\n",
        "train_losses = []\n",
        "test_losses  = []\n",
        "\n",
        "\n",
        "for epoch in range(n_epochs):\n",
        "    print(f\"epoch {epoch+1} / {n_epochs}\")\n",
        "    start_time = datetime.now()\n",
        "    net.train()\n",
        "    running_loss = 0.0\n",
        "    running_corrects = 0\n",
        "    val_loss = 0.0\n",
        "    val_corrects = 0\n",
        "    with torch.set_grad_enabled(True):\n",
        "        for idx,batch in enumerate(train_loader):\n",
        "            inputs, labels = batch['tensor'].float(), batch['label']\n",
        "            inputs = inputs.to(device)\n",
        "            labels = labels.to(device)\n",
        "            optimizer_ft.zero_grad()\n",
        "            outputs = net(inputs)\n",
        "            _, preds = torch.max(outputs,1)\n",
        "            loss = criterion(outputs, labels)\n",
        "            loss.backward()\n",
        "            optimizer_ft.step()\n",
        "            running_loss += loss.item() * inputs.size(0)\n",
        "            running_corrects += torch.sum(preds == labels.data)\n",
        "        exp_lr_scheduler.step()\n",
        "    print(f\"training loss: {running_loss / train_size} training accuracy: {running_corrects /  train_size} time:{(datetime.now() - start_time).total_seconds()} secs\")\n",
        "    train_accuracies.append(running_corrects /  train_size)\n",
        "    train_losses.append(running_loss / train_size)\n",
        "    net.eval()\n",
        "    start_time = datetime.now()\n",
        "    with torch.set_grad_enabled(False):\n",
        "        test_preds = []\n",
        "        for batch in test_loader:\n",
        "            inputs,labels = batch['tensor'].float(), batch['label']\n",
        "            inputs = inputs.to(device)\n",
        "            labels = labels.to(device)\n",
        "            outputs = net(inputs)\n",
        "            _, preds = torch.max(outputs,1)\n",
        "            loss = criterion(outputs, labels)\n",
        "            val_loss += loss.item() * inputs.size(0)\n",
        "            val_corrects += torch.sum(preds == labels.data)\n",
        "            test_preds.extend(preds)\n",
        "        val_accuracy = val_corrects /  test_size\n",
        "        if val_accuracy > best_accuracy:\n",
        "            best_accuracy = val_accuracy\n",
        "            best_epoch_predictions = [i.item() for i in test_preds]\n",
        "            best_model = copy.deepcopy(net.state_dict())\n",
        "    print(f\"val loss: {val_loss / test_size} val accuracy: {val_accuracy} time: {(datetime.now() - start_time).total_seconds()} secs\")\n",
        "    test_accuracies.append(val_accuracy)\n",
        "    test_losses.append(val_loss / test_size)"
      ],
      "execution_count": 45,
      "outputs": [
        {
          "output_type": "stream",
          "text": [
            "epoch 1 / 10\n",
            "training loss: 1.350711204012873 training accuracy: 0.41283759474754333 time:250.694088 secs\n",
            "val loss: 1.2030214892875628 val accuracy: 0.5030152797698975 time: 72.114688 secs\n",
            "epoch 2 / 10\n",
            "training loss: 1.2511065709778428 training accuracy: 0.45573753118515015 time:290.92071 secs\n",
            "val loss: 1.1466239498731214 val accuracy: 0.5121688842773438 time: 71.928705 secs\n",
            "epoch 3 / 10\n",
            "training loss: 1.2010103536431171 training accuracy: 0.47880634665489197 time:290.829451 secs\n",
            "val loss: 1.1539899128253106 val accuracy: 0.5299375653266907 time: 71.969505 secs\n",
            "epoch 4 / 10\n",
            "training loss: 1.1505428549379004 training accuracy: 0.5149880051612854 time:289.233669 secs\n",
            "val loss: 1.099693313770553 val accuracy: 0.5660133957862854 time: 71.390446 secs\n",
            "epoch 5 / 10\n",
            "training loss: 1.1179323755195631 training accuracy: 0.5336589217185974 time:290.336156 secs\n",
            "val loss: 1.0675896699126106 val accuracy: 0.5748438835144043 time: 71.894058 secs\n",
            "epoch 6 / 10\n",
            "training loss: 1.0794616971908029 training accuracy: 0.5614224672317505 time:289.690983 secs\n",
            "val loss: 1.0420067781727298 val accuracy: 0.5828128457069397 time: 71.703965 secs\n",
            "epoch 7 / 10\n",
            "training loss: 1.0539353281871455 training accuracy: 0.5731322169303894 time:290.185877 secs\n",
            "val loss: 1.0514556661187229 val accuracy: 0.575274646282196 time: 71.653943 secs\n",
            "epoch 8 / 10\n",
            "training loss: 0.986739036550448 training accuracy: 0.6114183664321899 time:291.032659 secs\n",
            "val loss: 1.0197091064344264 val accuracy: 0.5919663906097412 time: 73.238767 secs\n",
            "epoch 9 / 10\n",
            "training loss: 0.9692051252476606 training accuracy: 0.6152766942977905 time:290.181316 secs\n",
            "val loss: 1.0229456881472399 val accuracy: 0.5908895134925842 time: 71.483959 secs\n",
            "epoch 10 / 10\n",
            "training loss: 0.9575348665925066 training accuracy: 0.620753824710846 time:291.212912 secs\n",
            "val loss: 1.0247588355351747 val accuracy: 0.5916433334350586 time: 71.162268 secs\n"
          ],
          "name": "stdout"
        }
      ]
    },
    {
      "cell_type": "code",
      "metadata": {
        "colab": {
          "base_uri": "https://localhost:8080/",
          "height": 298
        },
        "id": "X9UgAPS9HPWH",
        "outputId": "b2b37bec-2549-40c4-8556-1273b39a975b"
      },
      "source": [
        "from sklearn.metrics import confusion_matrix, classification_report, accuracy_score\n",
        "import seaborn as sns\n",
        "import matplotlib.pyplot as plt\n",
        "\n",
        "labels = test_loader.dataset.label_mapping\n",
        "y_test = [label_mapping[i[1]] for i in test_loader.dataset.dataset]\n",
        "y_pred = [i.item() for i in test_preds]\n",
        "\n",
        "\n",
        "sns.heatmap(confusion_matrix(y_test, y_pred),xticklabels=labels,yticklabels=labels,square = True, annot=True,fmt = \"d\")\n",
        "plt.xlabel(\"true labels\")\n",
        "plt.ylabel(\"predicted label\")\n",
        "plt.yticks(rotation=0);\n",
        "print(\"The accuracy is {}\".format(accuracy_score(y_test, y_pred)))"
      ],
      "execution_count": 62,
      "outputs": [
        {
          "output_type": "stream",
          "text": [
            "The accuracy is 0.5916433340512599\n"
          ],
          "name": "stdout"
        },
        {
          "output_type": "display_data",
          "data": {
            "image/png": "[encoded data removed]",
            "text/plain": [
              "<Figure size 432x288 with 2 Axes>"
            ]
          },
          "metadata": {
            "tags": [],
            "needs_background": "light"
          }
        }
      ]
    }
  ]
}