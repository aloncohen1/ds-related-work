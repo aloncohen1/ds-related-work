{
 "cells": [
  {
   "cell_type": "code",
   "execution_count": 167,
   "metadata": {
    "collapsed": true
   },
   "outputs": [],
   "source": [
    "from selenium import webdriver \n",
    "from selenium.webdriver.common.by import By \n",
    "from selenium.webdriver.support.ui import WebDriverWait \n",
    "from selenium.webdriver.support import expected_conditions as EC \n",
    "from selenium.common.exceptions import TimeoutException"
   ]
  },
  {
   "cell_type": "code",
   "execution_count": 168,
   "metadata": {},
   "outputs": [],
   "source": [
    "option = webdriver.ChromeOptions()\n",
    "option.add_argument(\"— incognito\")"
   ]
  },
  {
   "cell_type": "code",
   "execution_count": 169,
   "metadata": {},
   "outputs": [
    {
     "name": "stderr",
     "output_type": "stream",
     "text": [
      "C:\\Users\\AlonPc\\Anaconda3\\lib\\site-packages\\ipykernel_launcher.py:1: DeprecationWarning: use options instead of chrome_options\n",
      "  \"\"\"Entry point for launching an IPython kernel.\n"
     ]
    }
   ],
   "source": [
    "browser = webdriver.Chrome(executable_path=\"chromedriver.exe\", chrome_options=option)"
   ]
  },
  {
   "cell_type": "code",
   "execution_count": 170,
   "metadata": {},
   "outputs": [],
   "source": [
    "browser.get(\"http://cool-proxy.net/\")"
   ]
  },
  {
   "cell_type": "code",
   "execution_count": 171,
   "metadata": {
    "scrolled": true
   },
   "outputs": [],
   "source": [
    "last_page = browser.find_elements_by_xpath('//*[@id=\"main\"]/table/tbody/tr[23]/th/dir-pagination-controls/ul/li[11]/a')[0].text"
   ]
  },
  {
   "cell_type": "code",
   "execution_count": 173,
   "metadata": {},
   "outputs": [],
   "source": [
    "from collections import OrderedDict\n",
    "results = []\n",
    "tbale = browser.find_elements_by_tag_name('tr')\n",
    "for row in tbale:\n",
    "    try:\n",
    "        cell=[i for i in row.find_elements_by_tag_name('td')]\n",
    "        temp_dict=OrderedDict({\"IP Address\":cell[0].text,\n",
    "                    \"Port\":cell[1].text,\n",
    "                    \"Country\":cell[3].text,\n",
    "                    \"Anonymous\":cell[5].text,\n",
    "                    \"Working (%)\":cell[6].text,\n",
    "                    \"Response Time (s)\":cell[7].text,\n",
    "                    \"Download Speed (KB/s)\":cell[8].text,\n",
    "                    \"Last Check\":cell[9].text})\n",
    "        results.append(temp_dict)\n",
    "    except:\n",
    "        continue\n"
   ]
  },
  {
   "cell_type": "code",
   "execution_count": 175,
   "metadata": {
    "scrolled": true
   },
   "outputs": [],
   "source": [
    "next_page = browser.find_elements_by_xpath('//*[@id=\"main\"]/table/tbody/tr[23]/th/dir-pagination-controls/ul/li[12]/a')[0]"
   ]
  },
  {
   "cell_type": "code",
   "execution_count": 176,
   "metadata": {},
   "outputs": [
    {
     "name": "stdout",
     "output_type": "stream",
     "text": [
      "1 pages scraped\n",
      "2 pages scraped\n",
      "3 pages scraped\n",
      "4 pages scraped\n",
      "5 pages scraped\n",
      "6 pages scraped\n",
      "7 pages scraped\n",
      "8 pages scraped\n",
      "9 pages scraped\n",
      "10 pages scraped\n",
      "11 pages scraped\n",
      "12 pages scraped\n",
      "13 pages scraped\n",
      "14 pages scraped\n",
      "15 pages scraped\n",
      "16 pages scraped\n",
      "17 pages scraped\n",
      "18 pages scraped\n",
      "19 pages scraped\n",
      "20 pages scraped\n",
      "21 pages scraped\n",
      "22 pages scraped\n",
      "23 pages scraped\n",
      "24 pages scraped\n",
      "25 pages scraped\n",
      "26 pages scraped\n",
      "27 pages scraped\n",
      "28 pages scraped\n",
      "29 pages scraped\n",
      "30 pages scraped\n",
      "31 pages scraped\n",
      "32 pages scraped\n",
      "33 pages scraped\n",
      "34 pages scraped\n",
      "35 pages scraped\n",
      "36 pages scraped\n",
      "37 pages scraped\n",
      "38 pages scraped\n"
     ]
    }
   ],
   "source": [
    "from time import sleep\n",
    "for page in range(0,int(last_page)-1):\n",
    "    next_page.click()\n",
    "    sleep(5)\n",
    "    tbale = browser.find_elements_by_tag_name('tr')\n",
    "    for row in tbale:\n",
    "        try:\n",
    "            cell=[i for i in row.find_elements_by_tag_name('td')]\n",
    "            temp_dict=OrderedDict({\"IP Address\":cell[0].text,\n",
    "                                   \"Port\":cell[1].text,\n",
    "                                   \"Country\":cell[3].text,\n",
    "                                   \"Anonymous\":cell[5].text,\n",
    "                                   \"Working (%)\":cell[6].text,\n",
    "                                   \"Response Time (s)\":cell[7].text,\n",
    "                                   \"Download Speed (KB/s)\":cell[8].text,\n",
    "                                   \"Last Check\":cell[9].text})\n",
    "            results.append(temp_dict)\n",
    "        except:\n",
    "            continue\n",
    "    print(str(page+1)+ ' pages scraped')"
   ]
  },
  {
   "cell_type": "code",
   "execution_count": 179,
   "metadata": {
    "collapsed": true
   },
   "outputs": [],
   "source": [
    "import pandas as pd\n",
    "df = pd.DataFrame(results)\n",
    "df.to_csv('cool-proxy.csv',index=False)"
   ]
  },
  {
   "cell_type": "code",
   "execution_count": 180,
   "metadata": {},
   "outputs": [
    {
     "data": {
      "text/plain": [
       "<bound method NDFrame.head of           IP Address   Port               Country  Anonymous Working (%)  \\\n",
       "0      67.205.146.29   8080         United States  Anonymous         100   \n",
       "1     165.227.215.62   8080         United States  Anonymous         100   \n",
       "2    162.243.107.120   8080         United States  Anonymous         100   \n",
       "3      88.198.50.103   3128               Germany  Anonymous         100   \n",
       "4    162.243.108.141   3128         United States  Anonymous         100   \n",
       "5     67.205.174.209   3128         United States  Anonymous         100   \n",
       "6     67.205.132.241   8080         United States  Anonymous         100   \n",
       "7     67.205.149.230   8080         United States  Anonymous         100   \n",
       "8      174.138.54.49   8080         United States  Anonymous         100   \n",
       "9    162.243.108.129   8080         United States  Anonymous         100   \n",
       "10   162.243.108.161   8080         United States  Anonymous         100   \n",
       "11   198.199.120.102   3128         United States  Anonymous         100   \n",
       "12    159.203.166.41   8080         United States  Anonymous         100   \n",
       "13      159.203.91.6   3128         United States  Anonymous         100   \n",
       "14     51.158.119.88   8811        United Kingdom         No         100   \n",
       "15   192.241.245.207   8080         United States  Anonymous         100   \n",
       "16    51.158.171.208   8080        United Kingdom  Anonymous         100   \n",
       "17    51.158.111.242   8811        United Kingdom         No         100   \n",
       "18    163.172.189.32   8811        United Kingdom         No         100   \n",
       "19     51.158.120.84   8811        United Kingdom         No         100   \n",
       "20     194.167.44.91     80                France  Anonymous         100   \n",
       "21    51.158.108.135   8811        United Kingdom         No         100   \n",
       "22   163.172.136.226   8811        United Kingdom         No         100   \n",
       "23      51.158.68.26   8811        United Kingdom         No         100   \n",
       "24     138.68.24.145   8080         United States  Anonymous         100   \n",
       "25        67.63.33.7     80         United States  Anonymous         100   \n",
       "26    163.172.147.94   8811        United Kingdom         No         100   \n",
       "27   198.199.119.119   8080         United States  Anonymous         100   \n",
       "28    138.197.222.35   8080         United States  Anonymous         100   \n",
       "29     51.158.123.35   8811        United Kingdom         No         100   \n",
       "..               ...    ...                   ...        ...         ...   \n",
       "739  180.246.205.208  57648             Indonesia  Anonymous          49   \n",
       "740  138.122.143.200   3128               Unknown         No          49   \n",
       "741    185.49.111.34   8080               Unknown         No          49   \n",
       "742   177.46.141.143  41513                Brazil  Anonymous          49   \n",
       "743   124.40.248.202   8080             Indonesia  Anonymous          49   \n",
       "744      196.2.15.96  55714               Burundi  Anonymous          49   \n",
       "745   188.128.73.114   8080    Russian Federation         No          49   \n",
       "746      36.67.80.19   8080             Indonesia         No          49   \n",
       "747   176.36.118.116  61322               Ukraine  Anonymous          49   \n",
       "748    202.57.62.170  41199           Philippines  Anonymous          49   \n",
       "749   124.41.213.211  30626                 Nepal  Anonymous          49   \n",
       "750       1.2.169.81   8080              Thailand         No          49   \n",
       "751     81.161.205.4   8080                Poland         No          49   \n",
       "752     36.74.123.95   8080             Indonesia         No          49   \n",
       "753    116.58.37.180     80              Pakistan         No          49   \n",
       "754  106.240.254.138     80    Korea, Republic of  Anonymous          49   \n",
       "755     36.89.180.87  56015             Indonesia  Anonymous          49   \n",
       "756    200.61.10.102  55321             Argentina  Anonymous          49   \n",
       "757  187.160.245.156   3128                Mexico         No          49   \n",
       "758  118.171.184.161   3128                Taiwan         No          49   \n",
       "759   168.227.48.201   8080               Unknown         No          49   \n",
       "760   182.253.106.14   3128             Indonesia         No          49   \n",
       "761  177.105.192.126  56495                Brazil  Anonymous          49   \n",
       "762    213.5.194.226   9090               Ukraine         No          49   \n",
       "763    202.179.7.158  23500              Mongolia  Anonymous          49   \n",
       "764     182.52.51.35  60017              Thailand  Anonymous          49   \n",
       "765    93.116.185.57  31418  Moldova, Republic of  Anonymous          49   \n",
       "766    46.229.67.198  47437    Russian Federation  Anonymous          49   \n",
       "767    103.16.60.146   8080              Cambodia         No          49   \n",
       "768    66.181.167.72  53281         United States  Anonymous          49   \n",
       "\n",
       "    Response Time (s) Download Speed (KB/s) Last Check  \n",
       "0                 0.1                   193      25:48  \n",
       "1                0.12                   185      34:28  \n",
       "2                0.17                   203      33:10  \n",
       "3                0.17                   700      35:11  \n",
       "4                0.17                   197      32:19  \n",
       "5                0.18                   179      28:47  \n",
       "6                0.19                   174      32:58  \n",
       "7                 0.2                   180      32:52  \n",
       "8                0.25                   172      34:35  \n",
       "9                0.25                   181      29:55  \n",
       "10               0.27                   171      32:57  \n",
       "11                0.3                   179      32:26  \n",
       "12               0.31                   183      33:12  \n",
       "13               0.42                   158      33:08  \n",
       "14               0.46                   418      23:07  \n",
       "15               0.48                   149      26:35  \n",
       "16               0.53                   338      38:25  \n",
       "17               0.55                   391      32:13  \n",
       "18               0.56                   382      11:13  \n",
       "19               0.45                   405      32:23  \n",
       "20               0.46                   359      22:41  \n",
       "21               0.58                   390       6:46  \n",
       "22               0.58                   427      34:40  \n",
       "23               0.59                   436      33:36  \n",
       "24                0.6                   122      26:09  \n",
       "25               0.64                   118      21:15  \n",
       "26               0.56                   307       6:23  \n",
       "27                0.7                   114      13:49  \n",
       "28               0.71                   105      26:06  \n",
       "29               0.65                   359      31:31  \n",
       "..                ...                   ...        ...  \n",
       "739              9.81                     6      21:39  \n",
       "740              9.83                    17      22:00  \n",
       "741                10                    17      18:55  \n",
       "742             14.43                     7      28:43  \n",
       "743              16.5                    11      26:25  \n",
       "744             10.59                     5      23:15  \n",
       "745             12.96                     9      22:55  \n",
       "746              14.7                     7      22:03  \n",
       "747             10.51                    30      29:41  \n",
       "748              14.5                     5      27:38  \n",
       "749             13.21                    12      24:39  \n",
       "750              16.7                    13      17:22  \n",
       "751             10.94                     6      17:55  \n",
       "752             10.94                    10      23:50  \n",
       "753             11.54                     8      21:14  \n",
       "754             11.14                     7      25:49  \n",
       "755             15.07                     4      14:49  \n",
       "756             11.52                     8      25:46  \n",
       "757             14.19                     7      18:33  \n",
       "758             12.89                    11      27:58  \n",
       "759             13.07                     5      15:43  \n",
       "760             11.38                    17      19:51  \n",
       "761             11.61                    14      30:44  \n",
       "762             10.49                     7      17:17  \n",
       "763             14.77                     5      20:31  \n",
       "764             11.41                     8      16:58  \n",
       "765             12.69                     8      17:00  \n",
       "766             12.92                    17      30:08  \n",
       "767             15.26                     9      17:06  \n",
       "768             14.59                    17      15:48  \n",
       "\n",
       "[769 rows x 8 columns]>"
      ]
     },
     "execution_count": 180,
     "metadata": {},
     "output_type": "execute_result"
    }
   ],
   "source": [
    "df.head"
   ]
  },
  {
   "cell_type": "code",
   "execution_count": null,
   "metadata": {
    "collapsed": true
   },
   "outputs": [],
   "source": []
  }
 ],
 "metadata": {
  "kernelspec": {
   "display_name": "Python 3",
   "language": "python",
   "name": "python3"
  },
  "language_info": {
   "codemirror_mode": {
    "name": "ipython",
    "version": 3
   },
   "file_extension": ".py",
   "mimetype": "text/x-python",
   "name": "python",
   "nbconvert_exporter": "python",
   "pygments_lexer": "ipython3",
   "version": "3.6.3"
  }
 },
 "nbformat": 4,
 "nbformat_minor": 2
}
