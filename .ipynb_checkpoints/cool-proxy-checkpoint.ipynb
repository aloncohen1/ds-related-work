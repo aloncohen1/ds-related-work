{
 "cells": [
  {
   "cell_type": "code",
   "execution_count": 167,
   "metadata": {
    "collapsed": true
   },
   "outputs": [],
   "source": [
    "from selenium import webdriver \n",
    "from selenium.webdriver.common.by import By \n",
    "from selenium.webdriver.support.ui import WebDriverWait \n",
    "from selenium.webdriver.support import expected_conditions as EC \n",
    "from selenium.common.exceptions import TimeoutException"
   ]
  },
  {
   "cell_type": "code",
   "execution_count": 168,
   "metadata": {},
   "outputs": [],
   "source": [
    "option = webdriver.ChromeOptions()\n",
    "option.add_argument(\"— incognito\")"
   ]
  },
  {
   "cell_type": "code",
   "execution_count": 169,
   "metadata": {},
   "outputs": [
    {
     "name": "stderr",
     "output_type": "stream",
     "text": [
      "C:\\Users\\AlonPc\\Anaconda3\\lib\\site-packages\\ipykernel_launcher.py:1: DeprecationWarning: use options instead of chrome_options\n",
      "  \"\"\"Entry point for launching an IPython kernel.\n"
     ]
    }
   ],
   "source": [
    "browser = webdriver.Chrome(executable_path=\"chromedriver.exe\", chrome_options=option)"
   ]
  },
  {
   "cell_type": "code",
   "execution_count": 170,
   "metadata": {},
   "outputs": [],
   "source": [
    "browser.get(\"http://cool-proxy.net/\")"
   ]
  },
  {
   "cell_type": "code",
   "execution_count": 171,
   "metadata": {
    "scrolled": true
   },
   "outputs": [],
   "source": [
    "last_page = browser.find_elements_by_xpath('//*[@id=\"main\"]/table/tbody/tr[23]/th/dir-pagination-controls/ul/li[11]/a')[0].text"
   ]
  },
  {
   "cell_type": "code",
   "execution_count": 173,
   "metadata": {},
   "outputs": [],
   "source": [
    "from collections import OrderedDict\n",
    "results = []\n",
    "tbale = browser.find_elements_by_tag_name('tr')\n",
    "for row in tbale:\n",
    "    try:\n",
    "        cell=[i for i in row.find_elements_by_tag_name('td')]\n",
    "        temp_dict=OrderedDict({\"IP Address\":cell[0].text,\n",
    "                    \"Port\":cell[1].text,\n",
    "                    \"Country\":cell[3].text,\n",
    "                    \"Anonymous\":cell[5].text,\n",
    "                    \"Working (%)\":cell[6].text,\n",
    "                    \"Response Time (s)\":cell[7].text,\n",
    "                    \"Download Speed (KB/s)\":cell[8].text,\n",
    "                    \"Last Check\":cell[9].text})\n",
    "        results.append(temp_dict)\n",
    "    except:\n",
    "        continue\n"
   ]
  },
  {
   "cell_type": "code",
   "execution_count": 175,
   "metadata": {
    "scrolled": true
   },
   "outputs": [],
   "source": [
    "next_page = browser.find_elements_by_xpath('//*[@id=\"main\"]/table/tbody/tr[23]/th/dir-pagination-controls/ul/li[12]/a')[0]"
   ]
  },
  {
   "cell_type": "code",
   "execution_count": 176,
   "metadata": {},
   "outputs": [
    {
     "name": "stdout",
     "output_type": "stream",
     "text": [
      "1 pages scraped\n",
      "2 pages scraped\n",
      "3 pages scraped\n",
      "4 pages scraped\n",
      "5 pages scraped\n",
      "6 pages scraped\n",
      "7 pages scraped\n",
      "8 pages scraped\n",
      "9 pages scraped\n",
      "10 pages scraped\n",
      "11 pages scraped\n",
      "12 pages scraped\n",
      "13 pages scraped\n",
      "14 pages scraped\n",
      "15 pages scraped\n",
      "16 pages scraped\n",
      "17 pages scraped\n",
      "18 pages scraped\n",
      "19 pages scraped\n",
      "20 pages scraped\n",
      "21 pages scraped\n",
      "22 pages scraped\n",
      "23 pages scraped\n",
      "24 pages scraped\n",
      "25 pages scraped\n",
      "26 pages scraped\n",
      "27 pages scraped\n",
      "28 pages scraped\n",
      "29 pages scraped\n",
      "30 pages scraped\n",
      "31 pages scraped\n",
      "32 pages scraped\n",
      "33 pages scraped\n",
      "34 pages scraped\n",
      "35 pages scraped\n",
      "36 pages scraped\n",
      "37 pages scraped\n",
      "38 pages scraped\n"
     ]
    }
   ],
   "source": [
    "from time import sleep\n",
    "for page in range(0,int(last_page)-1):\n",
    "    next_page.click()\n",
    "    sleep(5)\n",
    "    tbale = browser.find_elements_by_tag_name('tr')\n",
    "    for row in tbale:\n",
    "        try:\n",
    "            cell=[i for i in row.find_elements_by_tag_name('td')]\n",
    "            temp_dict=OrderedDict({\"IP Address\":cell[0].text,\n",
    "                                   \"Port\":cell[1].text,\n",
    "                                   \"Country\":cell[3].text,\n",
    "                                   \"Anonymous\":cell[5].text,\n",
    "                                   \"Working (%)\":cell[6].text,\n",
    "                                   \"Response Time (s)\":cell[7].text,\n",
    "                                   \"Download Speed (KB/s)\":cell[8].text,\n",
    "                                   \"Last Check\":cell[9].text})\n",
    "            results.append(temp_dict)\n",
    "        except:\n",
    "            continue\n",
    "    print(str(page+1)+ ' pages scraped')"
   ]
  },
  {
   "cell_type": "code",
   "execution_count": 179,
   "metadata": {
    "collapsed": true
   },
   "outputs": [],
   "source": [
    "import pandas as pd\n",
    "df = pd.DataFrame(results)\n",
    "df.to_csv('cool-proxy.csv',index=False)"
   ]
  },
  {
   "cell_type": "code",
   "execution_count": null,
   "metadata": {
    "collapsed": true
   },
   "outputs": [],
   "source": []
  }
 ],
 "metadata": {
  "kernelspec": {
   "display_name": "Python 3",
   "language": "python",
   "name": "python3"
  },
  "language_info": {
   "codemirror_mode": {
    "name": "ipython",
    "version": 3
   },
   "file_extension": ".py",
   "mimetype": "text/x-python",
   "name": "python",
   "nbconvert_exporter": "python",
   "pygments_lexer": "ipython3",
   "version": "3.8.6"
  }
 },
 "nbformat": 4,
 "nbformat_minor": 2
}
